{
 "cells": [
  {
   "cell_type": "code",
   "execution_count": 89,
   "metadata": {},
   "outputs": [],
   "source": [
    "import pickle\n",
    "import numpy as np\n",
    "import pandas as pd\n",
    "import seaborn as sns\n",
    "import matplotlib.pyplot as plt\n",
    "import warnings\n",
    "\n",
    "from sklearn.model_selection import train_test_split\n",
    "from boruta                  import BorutaPy\n",
    "from sklearn.ensemble        import RandomForestRegressor\n",
    "from sklearn.preprocessing   import RobustScaler, MinMaxScaler, LabelEncoder\n",
    "from sklearn.linear_model    import LogisticRegression\n",
    "from sklearn.ensemble        import RandomForestClassifier\n",
    "from sklearn.neighbors       import KNeighborsClassifier\n",
    "from sklearn.naive_bayes     import GaussianNB\n",
    "from xgboost                 import XGBClassifier\n",
    "from sklearn.metrics         import confusion_matrix, classification_report, accuracy_score\n",
    "from tabulate                import tabulate\n",
    "from IPython.core.display    import HTML\n",
    "from IPython.display         import Image\n",
    "warnings.filterwarnings(\"ignore\")"
   ]
  },
  {
   "cell_type": "code",
   "execution_count": 2,
   "metadata": {},
   "outputs": [
    {
     "name": "stdout",
     "output_type": "stream",
     "text": [
      "Populating the interactive namespace from numpy and matplotlib\n"
     ]
    },
    {
     "data": {
      "text/html": [
       "<style>.container { width:100% !important; }</style>"
      ],
      "text/plain": [
       "<IPython.core.display.HTML object>"
      ]
     },
     "metadata": {},
     "output_type": "display_data"
    }
   ],
   "source": [
    "def jupyter_settings():\n",
    "    %matplotlib inline\n",
    "    %pylab inline\n",
    "    \n",
    "    plt.style.use('bmh')\n",
    "    plt.rcParams['figure.figsize'] = [25, 12]\n",
    "    plt.rcParams['font.size'] = 24\n",
    "    \n",
    "    display( HTML('<style>.container { width:100% !important; }</style>'))\n",
    "    pd.options.display.max_columns = None\n",
    "    pd.options.display.max_rows = None\n",
    "    pd.set_option('display.expand_frame_repr', False)\n",
    "     \n",
    "    sns.set()\n",
    "    \n",
    "jupyter_settings()"
   ]
  },
  {
   "cell_type": "code",
   "execution_count": 3,
   "metadata": {},
   "outputs": [],
   "source": [
    "df_raw = pd.read_csv('data/telecom_treino.csv')\n",
    "teste = pd.read_csv('data/telecom_teste.csv') "
   ]
  },
  {
   "cell_type": "code",
   "execution_count": 4,
   "metadata": {},
   "outputs": [
    {
     "data": {
      "text/html": [
       "<div>\n",
       "<style scoped>\n",
       "    .dataframe tbody tr th:only-of-type {\n",
       "        vertical-align: middle;\n",
       "    }\n",
       "\n",
       "    .dataframe tbody tr th {\n",
       "        vertical-align: top;\n",
       "    }\n",
       "\n",
       "    .dataframe thead th {\n",
       "        text-align: right;\n",
       "    }\n",
       "</style>\n",
       "<table border=\"1\" class=\"dataframe\">\n",
       "  <thead>\n",
       "    <tr style=\"text-align: right;\">\n",
       "      <th></th>\n",
       "      <th>Unnamed: 0</th>\n",
       "      <th>state</th>\n",
       "      <th>account_length</th>\n",
       "      <th>area_code</th>\n",
       "      <th>international_plan</th>\n",
       "      <th>voice_mail_plan</th>\n",
       "      <th>number_vmail_messages</th>\n",
       "      <th>total_day_minutes</th>\n",
       "      <th>total_day_calls</th>\n",
       "      <th>total_day_charge</th>\n",
       "      <th>total_eve_minutes</th>\n",
       "      <th>total_eve_calls</th>\n",
       "      <th>total_eve_charge</th>\n",
       "      <th>total_night_minutes</th>\n",
       "      <th>total_night_calls</th>\n",
       "      <th>total_night_charge</th>\n",
       "      <th>total_intl_minutes</th>\n",
       "      <th>total_intl_calls</th>\n",
       "      <th>total_intl_charge</th>\n",
       "      <th>number_customer_service_calls</th>\n",
       "      <th>churn</th>\n",
       "    </tr>\n",
       "  </thead>\n",
       "  <tbody>\n",
       "    <tr>\n",
       "      <th>0</th>\n",
       "      <td>1</td>\n",
       "      <td>KS</td>\n",
       "      <td>128</td>\n",
       "      <td>area_code_415</td>\n",
       "      <td>no</td>\n",
       "      <td>yes</td>\n",
       "      <td>25</td>\n",
       "      <td>265.1</td>\n",
       "      <td>110</td>\n",
       "      <td>45.07</td>\n",
       "      <td>197.4</td>\n",
       "      <td>99</td>\n",
       "      <td>16.78</td>\n",
       "      <td>244.7</td>\n",
       "      <td>91</td>\n",
       "      <td>11.01</td>\n",
       "      <td>10.0</td>\n",
       "      <td>3</td>\n",
       "      <td>2.70</td>\n",
       "      <td>1</td>\n",
       "      <td>no</td>\n",
       "    </tr>\n",
       "    <tr>\n",
       "      <th>1</th>\n",
       "      <td>2</td>\n",
       "      <td>OH</td>\n",
       "      <td>107</td>\n",
       "      <td>area_code_415</td>\n",
       "      <td>no</td>\n",
       "      <td>yes</td>\n",
       "      <td>26</td>\n",
       "      <td>161.6</td>\n",
       "      <td>123</td>\n",
       "      <td>27.47</td>\n",
       "      <td>195.5</td>\n",
       "      <td>103</td>\n",
       "      <td>16.62</td>\n",
       "      <td>254.4</td>\n",
       "      <td>103</td>\n",
       "      <td>11.45</td>\n",
       "      <td>13.7</td>\n",
       "      <td>3</td>\n",
       "      <td>3.70</td>\n",
       "      <td>1</td>\n",
       "      <td>no</td>\n",
       "    </tr>\n",
       "    <tr>\n",
       "      <th>2</th>\n",
       "      <td>3</td>\n",
       "      <td>NJ</td>\n",
       "      <td>137</td>\n",
       "      <td>area_code_415</td>\n",
       "      <td>no</td>\n",
       "      <td>no</td>\n",
       "      <td>0</td>\n",
       "      <td>243.4</td>\n",
       "      <td>114</td>\n",
       "      <td>41.38</td>\n",
       "      <td>121.2</td>\n",
       "      <td>110</td>\n",
       "      <td>10.30</td>\n",
       "      <td>162.6</td>\n",
       "      <td>104</td>\n",
       "      <td>7.32</td>\n",
       "      <td>12.2</td>\n",
       "      <td>5</td>\n",
       "      <td>3.29</td>\n",
       "      <td>0</td>\n",
       "      <td>no</td>\n",
       "    </tr>\n",
       "    <tr>\n",
       "      <th>3</th>\n",
       "      <td>4</td>\n",
       "      <td>OH</td>\n",
       "      <td>84</td>\n",
       "      <td>area_code_408</td>\n",
       "      <td>yes</td>\n",
       "      <td>no</td>\n",
       "      <td>0</td>\n",
       "      <td>299.4</td>\n",
       "      <td>71</td>\n",
       "      <td>50.90</td>\n",
       "      <td>61.9</td>\n",
       "      <td>88</td>\n",
       "      <td>5.26</td>\n",
       "      <td>196.9</td>\n",
       "      <td>89</td>\n",
       "      <td>8.86</td>\n",
       "      <td>6.6</td>\n",
       "      <td>7</td>\n",
       "      <td>1.78</td>\n",
       "      <td>2</td>\n",
       "      <td>no</td>\n",
       "    </tr>\n",
       "    <tr>\n",
       "      <th>4</th>\n",
       "      <td>5</td>\n",
       "      <td>OK</td>\n",
       "      <td>75</td>\n",
       "      <td>area_code_415</td>\n",
       "      <td>yes</td>\n",
       "      <td>no</td>\n",
       "      <td>0</td>\n",
       "      <td>166.7</td>\n",
       "      <td>113</td>\n",
       "      <td>28.34</td>\n",
       "      <td>148.3</td>\n",
       "      <td>122</td>\n",
       "      <td>12.61</td>\n",
       "      <td>186.9</td>\n",
       "      <td>121</td>\n",
       "      <td>8.41</td>\n",
       "      <td>10.1</td>\n",
       "      <td>3</td>\n",
       "      <td>2.73</td>\n",
       "      <td>3</td>\n",
       "      <td>no</td>\n",
       "    </tr>\n",
       "  </tbody>\n",
       "</table>\n",
       "</div>"
      ],
      "text/plain": [
       "   Unnamed: 0 state  account_length      area_code international_plan voice_mail_plan  number_vmail_messages  total_day_minutes  total_day_calls  total_day_charge  total_eve_minutes  total_eve_calls  total_eve_charge  total_night_minutes  total_night_calls  total_night_charge  total_intl_minutes  total_intl_calls  total_intl_charge  number_customer_service_calls churn\n",
       "0           1    KS             128  area_code_415                 no             yes                     25              265.1              110             45.07              197.4               99             16.78                244.7                 91               11.01                10.0                 3               2.70                              1    no\n",
       "1           2    OH             107  area_code_415                 no             yes                     26              161.6              123             27.47              195.5              103             16.62                254.4                103               11.45                13.7                 3               3.70                              1    no\n",
       "2           3    NJ             137  area_code_415                 no              no                      0              243.4              114             41.38              121.2              110             10.30                162.6                104                7.32                12.2                 5               3.29                              0    no\n",
       "3           4    OH              84  area_code_408                yes              no                      0              299.4               71             50.90               61.9               88              5.26                196.9                 89                8.86                 6.6                 7               1.78                              2    no\n",
       "4           5    OK              75  area_code_415                yes              no                      0              166.7              113             28.34              148.3              122             12.61                186.9                121                8.41                10.1                 3               2.73                              3    no"
      ]
     },
     "execution_count": 4,
     "metadata": {},
     "output_type": "execute_result"
    }
   ],
   "source": [
    "df_raw.head()"
   ]
  },
  {
   "cell_type": "code",
   "execution_count": 5,
   "metadata": {},
   "outputs": [
    {
     "data": {
      "text/html": [
       "<div>\n",
       "<style scoped>\n",
       "    .dataframe tbody tr th:only-of-type {\n",
       "        vertical-align: middle;\n",
       "    }\n",
       "\n",
       "    .dataframe tbody tr th {\n",
       "        vertical-align: top;\n",
       "    }\n",
       "\n",
       "    .dataframe thead th {\n",
       "        text-align: right;\n",
       "    }\n",
       "</style>\n",
       "<table border=\"1\" class=\"dataframe\">\n",
       "  <thead>\n",
       "    <tr style=\"text-align: right;\">\n",
       "      <th></th>\n",
       "      <th>Unnamed: 0</th>\n",
       "      <th>state</th>\n",
       "      <th>account_length</th>\n",
       "      <th>area_code</th>\n",
       "      <th>international_plan</th>\n",
       "      <th>voice_mail_plan</th>\n",
       "      <th>number_vmail_messages</th>\n",
       "      <th>total_day_minutes</th>\n",
       "      <th>total_day_calls</th>\n",
       "      <th>total_day_charge</th>\n",
       "      <th>total_eve_minutes</th>\n",
       "      <th>total_eve_calls</th>\n",
       "      <th>total_eve_charge</th>\n",
       "      <th>total_night_minutes</th>\n",
       "      <th>total_night_calls</th>\n",
       "      <th>total_night_charge</th>\n",
       "      <th>total_intl_minutes</th>\n",
       "      <th>total_intl_calls</th>\n",
       "      <th>total_intl_charge</th>\n",
       "      <th>number_customer_service_calls</th>\n",
       "      <th>churn</th>\n",
       "    </tr>\n",
       "  </thead>\n",
       "  <tbody>\n",
       "    <tr>\n",
       "      <th>0</th>\n",
       "      <td>1</td>\n",
       "      <td>HI</td>\n",
       "      <td>101</td>\n",
       "      <td>area_code_510</td>\n",
       "      <td>no</td>\n",
       "      <td>no</td>\n",
       "      <td>0</td>\n",
       "      <td>70.9</td>\n",
       "      <td>123</td>\n",
       "      <td>12.05</td>\n",
       "      <td>211.9</td>\n",
       "      <td>73</td>\n",
       "      <td>18.01</td>\n",
       "      <td>236.0</td>\n",
       "      <td>73</td>\n",
       "      <td>10.62</td>\n",
       "      <td>10.6</td>\n",
       "      <td>3</td>\n",
       "      <td>2.86</td>\n",
       "      <td>3</td>\n",
       "      <td>no</td>\n",
       "    </tr>\n",
       "    <tr>\n",
       "      <th>1</th>\n",
       "      <td>2</td>\n",
       "      <td>MT</td>\n",
       "      <td>137</td>\n",
       "      <td>area_code_510</td>\n",
       "      <td>no</td>\n",
       "      <td>no</td>\n",
       "      <td>0</td>\n",
       "      <td>223.6</td>\n",
       "      <td>86</td>\n",
       "      <td>38.01</td>\n",
       "      <td>244.8</td>\n",
       "      <td>139</td>\n",
       "      <td>20.81</td>\n",
       "      <td>94.2</td>\n",
       "      <td>81</td>\n",
       "      <td>4.24</td>\n",
       "      <td>9.5</td>\n",
       "      <td>7</td>\n",
       "      <td>2.57</td>\n",
       "      <td>0</td>\n",
       "      <td>no</td>\n",
       "    </tr>\n",
       "    <tr>\n",
       "      <th>2</th>\n",
       "      <td>3</td>\n",
       "      <td>OH</td>\n",
       "      <td>103</td>\n",
       "      <td>area_code_408</td>\n",
       "      <td>no</td>\n",
       "      <td>yes</td>\n",
       "      <td>29</td>\n",
       "      <td>294.7</td>\n",
       "      <td>95</td>\n",
       "      <td>50.10</td>\n",
       "      <td>237.3</td>\n",
       "      <td>105</td>\n",
       "      <td>20.17</td>\n",
       "      <td>300.3</td>\n",
       "      <td>127</td>\n",
       "      <td>13.51</td>\n",
       "      <td>13.7</td>\n",
       "      <td>6</td>\n",
       "      <td>3.70</td>\n",
       "      <td>1</td>\n",
       "      <td>no</td>\n",
       "    </tr>\n",
       "    <tr>\n",
       "      <th>3</th>\n",
       "      <td>4</td>\n",
       "      <td>NM</td>\n",
       "      <td>99</td>\n",
       "      <td>area_code_415</td>\n",
       "      <td>no</td>\n",
       "      <td>no</td>\n",
       "      <td>0</td>\n",
       "      <td>216.8</td>\n",
       "      <td>123</td>\n",
       "      <td>36.86</td>\n",
       "      <td>126.4</td>\n",
       "      <td>88</td>\n",
       "      <td>10.74</td>\n",
       "      <td>220.6</td>\n",
       "      <td>82</td>\n",
       "      <td>9.93</td>\n",
       "      <td>15.7</td>\n",
       "      <td>2</td>\n",
       "      <td>4.24</td>\n",
       "      <td>1</td>\n",
       "      <td>no</td>\n",
       "    </tr>\n",
       "    <tr>\n",
       "      <th>4</th>\n",
       "      <td>5</td>\n",
       "      <td>SC</td>\n",
       "      <td>108</td>\n",
       "      <td>area_code_415</td>\n",
       "      <td>no</td>\n",
       "      <td>no</td>\n",
       "      <td>0</td>\n",
       "      <td>197.4</td>\n",
       "      <td>78</td>\n",
       "      <td>33.56</td>\n",
       "      <td>124.0</td>\n",
       "      <td>101</td>\n",
       "      <td>10.54</td>\n",
       "      <td>204.5</td>\n",
       "      <td>107</td>\n",
       "      <td>9.20</td>\n",
       "      <td>7.7</td>\n",
       "      <td>4</td>\n",
       "      <td>2.08</td>\n",
       "      <td>2</td>\n",
       "      <td>no</td>\n",
       "    </tr>\n",
       "  </tbody>\n",
       "</table>\n",
       "</div>"
      ],
      "text/plain": [
       "   Unnamed: 0 state  account_length      area_code international_plan voice_mail_plan  number_vmail_messages  total_day_minutes  total_day_calls  total_day_charge  total_eve_minutes  total_eve_calls  total_eve_charge  total_night_minutes  total_night_calls  total_night_charge  total_intl_minutes  total_intl_calls  total_intl_charge  number_customer_service_calls churn\n",
       "0           1    HI             101  area_code_510                 no              no                      0               70.9              123             12.05              211.9               73             18.01                236.0                 73               10.62                10.6                 3               2.86                              3    no\n",
       "1           2    MT             137  area_code_510                 no              no                      0              223.6               86             38.01              244.8              139             20.81                 94.2                 81                4.24                 9.5                 7               2.57                              0    no\n",
       "2           3    OH             103  area_code_408                 no             yes                     29              294.7               95             50.10              237.3              105             20.17                300.3                127               13.51                13.7                 6               3.70                              1    no\n",
       "3           4    NM              99  area_code_415                 no              no                      0              216.8              123             36.86              126.4               88             10.74                220.6                 82                9.93                15.7                 2               4.24                              1    no\n",
       "4           5    SC             108  area_code_415                 no              no                      0              197.4               78             33.56              124.0              101             10.54                204.5                107                9.20                 7.7                 4               2.08                              2    no"
      ]
     },
     "execution_count": 5,
     "metadata": {},
     "output_type": "execute_result"
    }
   ],
   "source": [
    "teste.head()"
   ]
  },
  {
   "cell_type": "code",
   "execution_count": 6,
   "metadata": {},
   "outputs": [],
   "source": [
    "df_raw = df_raw.drop(['Unnamed: 0'], axis=1)\n",
    "teste = teste.drop(['Unnamed: 0'], axis=1)"
   ]
  },
  {
   "cell_type": "markdown",
   "metadata": {
    "heading_collapsed": true
   },
   "source": [
    "# 1.0 DESCRICAO DOS DADOS"
   ]
  },
  {
   "cell_type": "code",
   "execution_count": 7,
   "metadata": {},
   "outputs": [],
   "source": [
    "df1 = pd.concat([df_raw, teste], ignore_index=True)"
   ]
  },
  {
   "cell_type": "code",
   "execution_count": 8,
   "metadata": {},
   "outputs": [
    {
     "data": {
      "text/plain": [
       "5000"
      ]
     },
     "execution_count": 8,
     "metadata": {},
     "output_type": "execute_result"
    }
   ],
   "source": [
    "len(df1)"
   ]
  },
  {
   "cell_type": "code",
   "execution_count": 9,
   "metadata": {},
   "outputs": [
    {
     "data": {
      "text/plain": [
       "state                             object\n",
       "account_length                     int64\n",
       "area_code                         object\n",
       "international_plan                object\n",
       "voice_mail_plan                   object\n",
       "number_vmail_messages              int64\n",
       "total_day_minutes                float64\n",
       "total_day_calls                    int64\n",
       "total_day_charge                 float64\n",
       "total_eve_minutes                float64\n",
       "total_eve_calls                    int64\n",
       "total_eve_charge                 float64\n",
       "total_night_minutes              float64\n",
       "total_night_calls                  int64\n",
       "total_night_charge               float64\n",
       "total_intl_minutes               float64\n",
       "total_intl_calls                   int64\n",
       "total_intl_charge                float64\n",
       "number_customer_service_calls      int64\n",
       "churn                             object\n",
       "dtype: object"
      ]
     },
     "execution_count": 9,
     "metadata": {},
     "output_type": "execute_result"
    }
   ],
   "source": [
    "df1.dtypes"
   ]
  },
  {
   "cell_type": "code",
   "execution_count": 10,
   "metadata": {},
   "outputs": [
    {
     "data": {
      "text/plain": [
       "state                            0\n",
       "account_length                   0\n",
       "area_code                        0\n",
       "international_plan               0\n",
       "voice_mail_plan                  0\n",
       "number_vmail_messages            0\n",
       "total_day_minutes                0\n",
       "total_day_calls                  0\n",
       "total_day_charge                 0\n",
       "total_eve_minutes                0\n",
       "total_eve_calls                  0\n",
       "total_eve_charge                 0\n",
       "total_night_minutes              0\n",
       "total_night_calls                0\n",
       "total_night_charge               0\n",
       "total_intl_minutes               0\n",
       "total_intl_calls                 0\n",
       "total_intl_charge                0\n",
       "number_customer_service_calls    0\n",
       "churn                            0\n",
       "dtype: int64"
      ]
     },
     "execution_count": 10,
     "metadata": {},
     "output_type": "execute_result"
    }
   ],
   "source": [
    "df1.isnull().sum()"
   ]
  },
  {
   "cell_type": "code",
   "execution_count": 11,
   "metadata": {},
   "outputs": [
    {
     "data": {
      "text/plain": [
       "no     4293\n",
       "yes     707\n",
       "Name: churn, dtype: int64"
      ]
     },
     "execution_count": 11,
     "metadata": {},
     "output_type": "execute_result"
    }
   ],
   "source": [
    "df1['churn'].value_counts()"
   ]
  },
  {
   "cell_type": "markdown",
   "metadata": {
    "ExecuteTime": {
     "end_time": "2021-01-20T00:37:56.195998Z",
     "start_time": "2021-01-20T00:37:56.186004Z"
    },
    "heading_collapsed": true,
    "hidden": true
   },
   "source": [
    "## 1.1 Descriptive Statistical"
   ]
  },
  {
   "cell_type": "code",
   "execution_count": 12,
   "metadata": {},
   "outputs": [],
   "source": [
    "num_attributes = df1.select_dtypes(include = [\"int64\", \"float64\"])\n",
    "cat_attributes = df1.select_dtypes(include = [\"object\"])"
   ]
  },
  {
   "cell_type": "markdown",
   "metadata": {
    "hidden": true
   },
   "source": [
    "### 1.1.1 Numerical Attributes"
   ]
  },
  {
   "cell_type": "code",
   "execution_count": 13,
   "metadata": {},
   "outputs": [
    {
     "data": {
      "text/html": [
       "<div>\n",
       "<style scoped>\n",
       "    .dataframe tbody tr th:only-of-type {\n",
       "        vertical-align: middle;\n",
       "    }\n",
       "\n",
       "    .dataframe tbody tr th {\n",
       "        vertical-align: top;\n",
       "    }\n",
       "\n",
       "    .dataframe thead th {\n",
       "        text-align: right;\n",
       "    }\n",
       "</style>\n",
       "<table border=\"1\" class=\"dataframe\">\n",
       "  <thead>\n",
       "    <tr style=\"text-align: right;\">\n",
       "      <th></th>\n",
       "      <th>attributes</th>\n",
       "      <th>min</th>\n",
       "      <th>max</th>\n",
       "      <th>range</th>\n",
       "      <th>mean</th>\n",
       "      <th>median</th>\n",
       "      <th>std</th>\n",
       "      <th>skew</th>\n",
       "      <th>kurtosis</th>\n",
       "    </tr>\n",
       "  </thead>\n",
       "  <tbody>\n",
       "    <tr>\n",
       "      <th>0</th>\n",
       "      <td>account_length</td>\n",
       "      <td>1.0</td>\n",
       "      <td>243.00</td>\n",
       "      <td>242.00</td>\n",
       "      <td>100.258600</td>\n",
       "      <td>100.00</td>\n",
       "      <td>39.690590</td>\n",
       "      <td>0.109291</td>\n",
       "      <td>-0.101621</td>\n",
       "    </tr>\n",
       "    <tr>\n",
       "      <th>1</th>\n",
       "      <td>number_vmail_messages</td>\n",
       "      <td>0.0</td>\n",
       "      <td>52.00</td>\n",
       "      <td>52.00</td>\n",
       "      <td>7.755200</td>\n",
       "      <td>0.00</td>\n",
       "      <td>13.545039</td>\n",
       "      <td>1.350493</td>\n",
       "      <td>0.199127</td>\n",
       "    </tr>\n",
       "    <tr>\n",
       "      <th>2</th>\n",
       "      <td>total_day_minutes</td>\n",
       "      <td>0.0</td>\n",
       "      <td>351.50</td>\n",
       "      <td>351.50</td>\n",
       "      <td>180.288900</td>\n",
       "      <td>180.10</td>\n",
       "      <td>53.889309</td>\n",
       "      <td>-0.011731</td>\n",
       "      <td>-0.021294</td>\n",
       "    </tr>\n",
       "    <tr>\n",
       "      <th>3</th>\n",
       "      <td>total_day_calls</td>\n",
       "      <td>0.0</td>\n",
       "      <td>165.00</td>\n",
       "      <td>165.00</td>\n",
       "      <td>100.029400</td>\n",
       "      <td>100.00</td>\n",
       "      <td>19.829214</td>\n",
       "      <td>-0.084891</td>\n",
       "      <td>0.178568</td>\n",
       "    </tr>\n",
       "    <tr>\n",
       "      <th>4</th>\n",
       "      <td>total_day_charge</td>\n",
       "      <td>0.0</td>\n",
       "      <td>59.76</td>\n",
       "      <td>59.76</td>\n",
       "      <td>30.649668</td>\n",
       "      <td>30.62</td>\n",
       "      <td>9.161152</td>\n",
       "      <td>-0.011729</td>\n",
       "      <td>-0.021166</td>\n",
       "    </tr>\n",
       "    <tr>\n",
       "      <th>5</th>\n",
       "      <td>total_eve_minutes</td>\n",
       "      <td>0.0</td>\n",
       "      <td>363.70</td>\n",
       "      <td>363.70</td>\n",
       "      <td>200.636560</td>\n",
       "      <td>201.00</td>\n",
       "      <td>50.546254</td>\n",
       "      <td>-0.011018</td>\n",
       "      <td>0.051375</td>\n",
       "    </tr>\n",
       "    <tr>\n",
       "      <th>6</th>\n",
       "      <td>total_eve_calls</td>\n",
       "      <td>0.0</td>\n",
       "      <td>170.00</td>\n",
       "      <td>170.00</td>\n",
       "      <td>100.191000</td>\n",
       "      <td>100.00</td>\n",
       "      <td>19.824513</td>\n",
       "      <td>-0.020175</td>\n",
       "      <td>0.117363</td>\n",
       "    </tr>\n",
       "    <tr>\n",
       "      <th>7</th>\n",
       "      <td>total_eve_charge</td>\n",
       "      <td>0.0</td>\n",
       "      <td>30.91</td>\n",
       "      <td>30.91</td>\n",
       "      <td>17.054322</td>\n",
       "      <td>17.09</td>\n",
       "      <td>4.296414</td>\n",
       "      <td>-0.010990</td>\n",
       "      <td>0.051289</td>\n",
       "    </tr>\n",
       "    <tr>\n",
       "      <th>8</th>\n",
       "      <td>total_night_minutes</td>\n",
       "      <td>0.0</td>\n",
       "      <td>395.00</td>\n",
       "      <td>395.00</td>\n",
       "      <td>200.391620</td>\n",
       "      <td>200.40</td>\n",
       "      <td>50.522736</td>\n",
       "      <td>0.019325</td>\n",
       "      <td>0.082359</td>\n",
       "    </tr>\n",
       "    <tr>\n",
       "      <th>9</th>\n",
       "      <td>total_night_calls</td>\n",
       "      <td>0.0</td>\n",
       "      <td>175.00</td>\n",
       "      <td>175.00</td>\n",
       "      <td>99.919200</td>\n",
       "      <td>100.00</td>\n",
       "      <td>19.956690</td>\n",
       "      <td>0.002133</td>\n",
       "      <td>0.144438</td>\n",
       "    </tr>\n",
       "    <tr>\n",
       "      <th>10</th>\n",
       "      <td>total_night_charge</td>\n",
       "      <td>0.0</td>\n",
       "      <td>17.77</td>\n",
       "      <td>17.77</td>\n",
       "      <td>9.017732</td>\n",
       "      <td>9.02</td>\n",
       "      <td>2.273535</td>\n",
       "      <td>0.019287</td>\n",
       "      <td>0.082378</td>\n",
       "    </tr>\n",
       "    <tr>\n",
       "      <th>11</th>\n",
       "      <td>total_intl_minutes</td>\n",
       "      <td>0.0</td>\n",
       "      <td>20.00</td>\n",
       "      <td>20.00</td>\n",
       "      <td>10.261780</td>\n",
       "      <td>10.30</td>\n",
       "      <td>2.761120</td>\n",
       "      <td>-0.209966</td>\n",
       "      <td>0.655317</td>\n",
       "    </tr>\n",
       "    <tr>\n",
       "      <th>12</th>\n",
       "      <td>total_intl_calls</td>\n",
       "      <td>0.0</td>\n",
       "      <td>20.00</td>\n",
       "      <td>20.00</td>\n",
       "      <td>4.435200</td>\n",
       "      <td>4.00</td>\n",
       "      <td>2.456542</td>\n",
       "      <td>1.360692</td>\n",
       "      <td>3.268184</td>\n",
       "    </tr>\n",
       "    <tr>\n",
       "      <th>13</th>\n",
       "      <td>total_intl_charge</td>\n",
       "      <td>0.0</td>\n",
       "      <td>5.40</td>\n",
       "      <td>5.40</td>\n",
       "      <td>2.771196</td>\n",
       "      <td>2.78</td>\n",
       "      <td>0.745439</td>\n",
       "      <td>-0.210286</td>\n",
       "      <td>0.655989</td>\n",
       "    </tr>\n",
       "    <tr>\n",
       "      <th>14</th>\n",
       "      <td>number_customer_service_calls</td>\n",
       "      <td>0.0</td>\n",
       "      <td>9.00</td>\n",
       "      <td>9.00</td>\n",
       "      <td>1.570400</td>\n",
       "      <td>1.00</td>\n",
       "      <td>1.306233</td>\n",
       "      <td>1.042462</td>\n",
       "      <td>1.481096</td>\n",
       "    </tr>\n",
       "  </tbody>\n",
       "</table>\n",
       "</div>"
      ],
      "text/plain": [
       "                       attributes  min     max   range        mean  median        std      skew  kurtosis\n",
       "0                  account_length  1.0  243.00  242.00  100.258600  100.00  39.690590  0.109291 -0.101621\n",
       "1           number_vmail_messages  0.0   52.00   52.00    7.755200    0.00  13.545039  1.350493  0.199127\n",
       "2               total_day_minutes  0.0  351.50  351.50  180.288900  180.10  53.889309 -0.011731 -0.021294\n",
       "3                 total_day_calls  0.0  165.00  165.00  100.029400  100.00  19.829214 -0.084891  0.178568\n",
       "4                total_day_charge  0.0   59.76   59.76   30.649668   30.62   9.161152 -0.011729 -0.021166\n",
       "5               total_eve_minutes  0.0  363.70  363.70  200.636560  201.00  50.546254 -0.011018  0.051375\n",
       "6                 total_eve_calls  0.0  170.00  170.00  100.191000  100.00  19.824513 -0.020175  0.117363\n",
       "7                total_eve_charge  0.0   30.91   30.91   17.054322   17.09   4.296414 -0.010990  0.051289\n",
       "8             total_night_minutes  0.0  395.00  395.00  200.391620  200.40  50.522736  0.019325  0.082359\n",
       "9               total_night_calls  0.0  175.00  175.00   99.919200  100.00  19.956690  0.002133  0.144438\n",
       "10             total_night_charge  0.0   17.77   17.77    9.017732    9.02   2.273535  0.019287  0.082378\n",
       "11             total_intl_minutes  0.0   20.00   20.00   10.261780   10.30   2.761120 -0.209966  0.655317\n",
       "12               total_intl_calls  0.0   20.00   20.00    4.435200    4.00   2.456542  1.360692  3.268184\n",
       "13              total_intl_charge  0.0    5.40    5.40    2.771196    2.78   0.745439 -0.210286  0.655989\n",
       "14  number_customer_service_calls  0.0    9.00    9.00    1.570400    1.00   1.306233  1.042462  1.481096"
      ]
     },
     "execution_count": 13,
     "metadata": {},
     "output_type": "execute_result"
    }
   ],
   "source": [
    "# Central Tendency -media, mediana\n",
    "ct1 = pd.DataFrame(num_attributes.apply(np.mean)).T\n",
    "ct2 = pd.DataFrame(num_attributes.apply(np.median)).T\n",
    "\n",
    "# Dispersion - std, max, min, range, skew, kurtosis\n",
    "d1 = pd.DataFrame(num_attributes.apply(np.std)).T\n",
    "d2 = pd.DataFrame(num_attributes.apply(min)).T\n",
    "d3 = pd.DataFrame(num_attributes.apply(max)).T\n",
    "d4 = pd.DataFrame(num_attributes.apply(lambda x: x.max() - x.min())).T\n",
    "d5 = pd.DataFrame(num_attributes.apply(lambda x: x.skew())).T\n",
    "d6 = pd.DataFrame(num_attributes.apply(lambda x: x.kurtosis())).T\n",
    "\n",
    "#concatenete\n",
    "m = pd.concat([d2, d3, d4, ct1, ct2, d1, d5, d6]).T.reset_index()\n",
    "m. columns = [\"attributes\", \"min\", \"max\", \"range\", \"mean\", \"median\", \"std\", \"skew\", \"kurtosis\"]\n",
    "\n",
    "m"
   ]
  },
  {
   "cell_type": "code",
   "execution_count": 14,
   "metadata": {},
   "outputs": [
    {
     "data": {
      "text/plain": [
       "<AxesSubplot:xlabel='account_length', ylabel='Density'>"
      ]
     },
     "execution_count": 14,
     "metadata": {},
     "output_type": "execute_result"
    },
    {
     "data": {
      "image/png": "[encoded data removed]",
      "text/plain": [
       "<Figure size 1800x864 with 1 Axes>"
      ]
     },
     "metadata": {},
     "output_type": "display_data"
    }
   ],
   "source": [
    "sns.distplot( df1[\"account_length\"] )"
   ]
  },
  {
   "cell_type": "code",
   "execution_count": 15,
   "metadata": {},
   "outputs": [
    {
     "data": {
      "text/plain": [
       "<AxesSubplot:xlabel='number_customer_service_calls', ylabel='count'>"
      ]
     },
     "execution_count": 15,
     "metadata": {},
     "output_type": "execute_result"
    },
    {
     "data": {
      "image/png": "[encoded data removed]",
      "text/plain": [
       "<Figure size 1800x864 with 1 Axes>"
      ]
     },
     "metadata": {},
     "output_type": "display_data"
    }
   ],
   "source": [
    "sns.countplot( df1[\"number_customer_service_calls\"] )"
   ]
  },
  {
   "cell_type": "markdown",
   "metadata": {
    "hidden": true
   },
   "source": [
    "### 1.2.2 Categorical Attribute"
   ]
  },
  {
   "cell_type": "code",
   "execution_count": 16,
   "metadata": {},
   "outputs": [
    {
     "data": {
      "text/plain": [
       "state                 51\n",
       "area_code              3\n",
       "international_plan     2\n",
       "voice_mail_plan        2\n",
       "churn                  2\n",
       "dtype: int64"
      ]
     },
     "execution_count": 16,
     "metadata": {},
     "output_type": "execute_result"
    }
   ],
   "source": [
    "cat_attributes.apply( lambda x: x.unique().shape[0] )"
   ]
  },
  {
   "cell_type": "code",
   "execution_count": 17,
   "metadata": {},
   "outputs": [
    {
     "data": {
      "text/plain": [
       "<AxesSubplot:xlabel='churn', ylabel='number_customer_service_calls'>"
      ]
     },
     "execution_count": 17,
     "metadata": {},
     "output_type": "execute_result"
    },
    {
     "data": {
      "image/png": "[encoded data removed]",
      "text/plain": [
       "<Figure size 1800x864 with 2 Axes>"
      ]
     },
     "metadata": {},
     "output_type": "display_data"
    }
   ],
   "source": [
    "plt.subplot(1, 2, 1)\n",
    "sns.boxplot( x=\"churn\",y=\"account_length\", data=df1, showfliers=False, hue='international_plan' )\n",
    "\n",
    "plt.subplot(1, 2, 2)\n",
    "sns.boxplot( x=\"churn\",y=\"number_customer_service_calls\", data=df1, showfliers=False, hue='international_plan' )\n"
   ]
  },
  {
   "cell_type": "markdown",
   "metadata": {
    "ExecuteTime": {
     "end_time": "2021-01-21T05:19:43.402914Z",
     "start_time": "2021-01-21T05:19:43.387921Z"
    },
    "heading_collapsed": true
   },
   "source": [
    "# 2.0  FEATURE ENGINEERING"
   ]
  },
  {
   "cell_type": "code",
   "execution_count": 18,
   "metadata": {},
   "outputs": [],
   "source": [
    "df2 = df1.copy()"
   ]
  },
  {
   "cell_type": "markdown",
   "metadata": {
    "ExecuteTime": {
     "end_time": "2021-01-21T23:35:56.351591Z",
     "start_time": "2021-01-21T23:35:56.331359Z"
    },
    "heading_collapsed": true,
    "hidden": true
   },
   "source": [
    "## 2.1 Mapa mental de Hipóteses"
   ]
  },
  {
   "cell_type": "code",
   "execution_count": 19,
   "metadata": {},
   "outputs": [
    {
     "data": {
      "image/png": "[encoded data removed]",
      "text/plain": [
       "<IPython.core.display.Image object>"
      ]
     },
     "execution_count": 19,
     "metadata": {},
     "output_type": "execute_result"
    }
   ],
   "source": [
    "Image(\"img/TELECON_CHURN.png\")"
   ]
  },
  {
   "cell_type": "markdown",
   "metadata": {
    "hidden": true
   },
   "source": [
    "## 2.2 Feature Engineering"
   ]
  },
  {
   "cell_type": "code",
   "execution_count": 20,
   "metadata": {},
   "outputs": [],
   "source": [
    "df2['total_minutes'] =  df2['total_day_minutes'] + df2['total_eve_minutes'] + df2['total_night_minutes']               \n",
    "df2['total_calls'] = df2['total_day_calls'] + df2['total_eve_calls'] + df2['total_night_calls']                  \n",
    "df2['total_charge'] = df2['total_day_charge'] + df2['total_eve_charge'] + df2['total_night_charge']"
   ]
  },
  {
   "cell_type": "code",
   "execution_count": 21,
   "metadata": {},
   "outputs": [],
   "source": [
    "df2['tarifa_day'] = df2['total_day_charge']/df2['total_day_minutes']\n",
    "df2['tarifa_eve'] = df2['total_eve_charge']/df2['total_eve_minutes']\n",
    "df2['tarifa_night'] = df2['total_night_charge']/df2['total_night_minutes']\n",
    "df2['tarifa_media'] = df2['total_charge']/df2['total_minutes']"
   ]
  },
  {
   "cell_type": "code",
   "execution_count": 22,
   "metadata": {},
   "outputs": [
    {
     "data": {
      "text/plain": [
       "state                            0\n",
       "account_length                   0\n",
       "area_code                        0\n",
       "international_plan               0\n",
       "voice_mail_plan                  0\n",
       "number_vmail_messages            0\n",
       "total_day_minutes                0\n",
       "total_day_calls                  0\n",
       "total_day_charge                 0\n",
       "total_eve_minutes                0\n",
       "total_eve_calls                  0\n",
       "total_eve_charge                 0\n",
       "total_night_minutes              0\n",
       "total_night_calls                0\n",
       "total_night_charge               0\n",
       "total_intl_minutes               0\n",
       "total_intl_calls                 0\n",
       "total_intl_charge                0\n",
       "number_customer_service_calls    0\n",
       "churn                            0\n",
       "total_minutes                    0\n",
       "total_calls                      0\n",
       "total_charge                     0\n",
       "tarifa_day                       2\n",
       "tarifa_eve                       1\n",
       "tarifa_night                     1\n",
       "tarifa_media                     0\n",
       "dtype: int64"
      ]
     },
     "execution_count": 22,
     "metadata": {},
     "output_type": "execute_result"
    }
   ],
   "source": [
    "df2.isnull().sum()"
   ]
  },
  {
   "cell_type": "code",
   "execution_count": 23,
   "metadata": {},
   "outputs": [],
   "source": [
    "df2 = df2.fillna(0)"
   ]
  },
  {
   "cell_type": "code",
   "execution_count": 24,
   "metadata": {},
   "outputs": [],
   "source": [
    "aux = df2[['total_minutes', 'total_calls', 'total_charge', 'tarifa_day', 'tarifa_eve', 'tarifa_night']]"
   ]
  },
  {
   "cell_type": "code",
   "execution_count": 25,
   "metadata": {
    "scrolled": true
   },
   "outputs": [
    {
     "data": {
      "text/html": [
       "<div>\n",
       "<style scoped>\n",
       "    .dataframe tbody tr th:only-of-type {\n",
       "        vertical-align: middle;\n",
       "    }\n",
       "\n",
       "    .dataframe tbody tr th {\n",
       "        vertical-align: top;\n",
       "    }\n",
       "\n",
       "    .dataframe thead th {\n",
       "        text-align: right;\n",
       "    }\n",
       "</style>\n",
       "<table border=\"1\" class=\"dataframe\">\n",
       "  <thead>\n",
       "    <tr style=\"text-align: right;\">\n",
       "      <th></th>\n",
       "      <th>attributes</th>\n",
       "      <th>min</th>\n",
       "      <th>max</th>\n",
       "      <th>range</th>\n",
       "      <th>mean</th>\n",
       "      <th>median</th>\n",
       "      <th>std</th>\n",
       "      <th>skew</th>\n",
       "      <th>kurtosis</th>\n",
       "    </tr>\n",
       "  </thead>\n",
       "  <tbody>\n",
       "    <tr>\n",
       "      <th>0</th>\n",
       "      <td>total_minutes</td>\n",
       "      <td>275.20</td>\n",
       "      <td>876.900000</td>\n",
       "      <td>601.700000</td>\n",
       "      <td>581.317080</td>\n",
       "      <td>581.850000</td>\n",
       "      <td>89.063040</td>\n",
       "      <td>0.009501</td>\n",
       "      <td>-0.035929</td>\n",
       "    </tr>\n",
       "    <tr>\n",
       "      <th>1</th>\n",
       "      <td>total_calls</td>\n",
       "      <td>188.00</td>\n",
       "      <td>410.000000</td>\n",
       "      <td>222.000000</td>\n",
       "      <td>300.139600</td>\n",
       "      <td>300.000000</td>\n",
       "      <td>34.205674</td>\n",
       "      <td>-0.017685</td>\n",
       "      <td>-0.147014</td>\n",
       "    </tr>\n",
       "    <tr>\n",
       "      <th>2</th>\n",
       "      <td>total_charge</td>\n",
       "      <td>19.98</td>\n",
       "      <td>92.560000</td>\n",
       "      <td>72.580000</td>\n",
       "      <td>56.721722</td>\n",
       "      <td>56.700000</td>\n",
       "      <td>10.337973</td>\n",
       "      <td>-0.005900</td>\n",
       "      <td>0.057091</td>\n",
       "    </tr>\n",
       "    <tr>\n",
       "      <th>3</th>\n",
       "      <td>tarifa_day</td>\n",
       "      <td>0.00</td>\n",
       "      <td>0.170513</td>\n",
       "      <td>0.170513</td>\n",
       "      <td>0.169935</td>\n",
       "      <td>0.170004</td>\n",
       "      <td>0.003399</td>\n",
       "      <td>-49.980314</td>\n",
       "      <td>2497.186450</td>\n",
       "    </tr>\n",
       "    <tr>\n",
       "      <th>4</th>\n",
       "      <td>tarifa_eve</td>\n",
       "      <td>0.00</td>\n",
       "      <td>0.085202</td>\n",
       "      <td>0.085202</td>\n",
       "      <td>0.084984</td>\n",
       "      <td>0.085000</td>\n",
       "      <td>0.001202</td>\n",
       "      <td>-70.690379</td>\n",
       "      <td>4998.086030</td>\n",
       "    </tr>\n",
       "    <tr>\n",
       "      <th>5</th>\n",
       "      <td>tarifa_night</td>\n",
       "      <td>0.00</td>\n",
       "      <td>0.045111</td>\n",
       "      <td>0.045111</td>\n",
       "      <td>0.044992</td>\n",
       "      <td>0.045000</td>\n",
       "      <td>0.000637</td>\n",
       "      <td>-70.639827</td>\n",
       "      <td>4993.319509</td>\n",
       "    </tr>\n",
       "  </tbody>\n",
       "</table>\n",
       "</div>"
      ],
      "text/plain": [
       "      attributes     min         max       range        mean      median        std       skew     kurtosis\n",
       "0  total_minutes  275.20  876.900000  601.700000  581.317080  581.850000  89.063040   0.009501    -0.035929\n",
       "1    total_calls  188.00  410.000000  222.000000  300.139600  300.000000  34.205674  -0.017685    -0.147014\n",
       "2   total_charge   19.98   92.560000   72.580000   56.721722   56.700000  10.337973  -0.005900     0.057091\n",
       "3     tarifa_day    0.00    0.170513    0.170513    0.169935    0.170004   0.003399 -49.980314  2497.186450\n",
       "4     tarifa_eve    0.00    0.085202    0.085202    0.084984    0.085000   0.001202 -70.690379  4998.086030\n",
       "5   tarifa_night    0.00    0.045111    0.045111    0.044992    0.045000   0.000637 -70.639827  4993.319509"
      ]
     },
     "execution_count": 25,
     "metadata": {},
     "output_type": "execute_result"
    }
   ],
   "source": [
    "# Central Tendency -media, mediana\n",
    "ct1 = pd.DataFrame(aux.apply(np.mean)).T\n",
    "ct2 = pd.DataFrame(aux.apply(np.median)).T\n",
    "\n",
    "# Dispersion - std, max, min, range, skew, kurtosis\n",
    "d1 = pd.DataFrame(aux.apply(np.std)).T\n",
    "d2 = pd.DataFrame(aux.apply(min)).T\n",
    "d3 = pd.DataFrame(aux.apply(max)).T\n",
    "d4 = pd.DataFrame(aux.apply(lambda x: x.max() - x.min())).T\n",
    "d5 = pd.DataFrame(aux.apply(lambda x: x.skew())).T\n",
    "d6 = pd.DataFrame(aux.apply(lambda x: x.kurtosis())).T\n",
    "\n",
    "#concatenete\n",
    "m = pd.concat([d2, d3, d4, ct1, ct2, d1, d5, d6]).T.reset_index()\n",
    "m. columns = [\"attributes\", \"min\", \"max\", \"range\", \"mean\", \"median\", \"std\", \"skew\", \"kurtosis\"]\n",
    "\n",
    "m"
   ]
  },
  {
   "cell_type": "code",
   "execution_count": 26,
   "metadata": {},
   "outputs": [
    {
     "data": {
      "text/plain": [
       "'no'"
      ]
     },
     "execution_count": 26,
     "metadata": {},
     "output_type": "execute_result"
    }
   ],
   "source": [
    "df2.loc[1, \"international_plan\"]"
   ]
  },
  {
   "cell_type": "code",
   "execution_count": 27,
   "metadata": {},
   "outputs": [],
   "source": [
    "for n in range(len(df2)):\n",
    "    \n",
    "    if (df2.loc[n, \"international_plan\"]=='yes') & (df2.loc[n, \"voice_mail_plan\"]=='no'):\n",
    "        df2.loc[n,'numero_de_planos'] = 1\n",
    "    if (df2.loc[n, \"international_plan\"]=='no') & (df2.loc[n, \"voice_mail_plan\"]=='yes'):\n",
    "        df2.loc[n,'numero_de_planos'] = 1\n",
    "    if (df2.loc[n, \"international_plan\"]=='yes') & (df2.loc[n, \"voice_mail_plan\"]=='yes'):\n",
    "        df2.loc[n,'numero_de_planos'] = 2\n",
    "    if (df2.loc[n, \"international_plan\"]=='no') & (df2.loc[n, \"voice_mail_plan\"]=='no'):\n",
    "        df2.loc[n,'numero_de_planos'] = 0"
   ]
  },
  {
   "cell_type": "code",
   "execution_count": 28,
   "metadata": {},
   "outputs": [
    {
     "name": "stdout",
     "output_type": "stream",
     "text": [
      "Número de clientes com os dois planos:  131\n",
      "Número de clientes com um plano:  1534\n",
      "Número de clientes sem nenhum plano:  3335\n"
     ]
    }
   ],
   "source": [
    "print('Número de clientes com os dois planos: ',len(df2[df2['numero_de_planos']==2]))\n",
    "print('Número de clientes com um plano: ',len(df2[df2['numero_de_planos']==1]))\n",
    "print('Número de clientes sem nenhum plano: ',len(df2[df2['numero_de_planos']==0]))"
   ]
  },
  {
   "cell_type": "code",
   "execution_count": 29,
   "metadata": {},
   "outputs": [],
   "source": [
    "for n in range(len(df2)):\n",
    "    if df2.loc[n, \"number_vmail_messages\"]==0:\n",
    "        df2.loc[n,'usou_vmail'] = 'no'\n",
    "    else:\n",
    "        df2.loc[n,'usou_vmail'] = 'yes'"
   ]
  },
  {
   "cell_type": "code",
   "execution_count": 30,
   "metadata": {},
   "outputs": [
    {
     "data": {
      "text/plain": [
       "no     0.7356\n",
       "yes    0.2644\n",
       "Name: usou_vmail, dtype: float64"
      ]
     },
     "execution_count": 30,
     "metadata": {},
     "output_type": "execute_result"
    }
   ],
   "source": [
    "df2['usou_vmail'].value_counts(normalize=True)"
   ]
  },
  {
   "cell_type": "code",
   "execution_count": 31,
   "metadata": {},
   "outputs": [],
   "source": [
    "for n in range(len(df2)):\n",
    "    if df2.loc[n, \"number_customer_service_calls\"]==0:\n",
    "        df2.loc[n,'ligou_customer_service'] = 'no'\n",
    "    else:\n",
    "        df2.loc[n,'ligou_customer_service'] = 'yes'"
   ]
  },
  {
   "cell_type": "code",
   "execution_count": 32,
   "metadata": {},
   "outputs": [
    {
     "data": {
      "text/plain": [
       "yes    0.7954\n",
       "no     0.2046\n",
       "Name: ligou_customer_service, dtype: float64"
      ]
     },
     "execution_count": 32,
     "metadata": {},
     "output_type": "execute_result"
    }
   ],
   "source": [
    "df2['ligou_customer_service'].value_counts(normalize=True)"
   ]
  },
  {
   "cell_type": "code",
   "execution_count": 33,
   "metadata": {},
   "outputs": [],
   "source": [
    "df2[\"count_churn\"] = df2[\"churn\"].apply( lambda x: 0 if x=='no' else 1)"
   ]
  },
  {
   "cell_type": "markdown",
   "metadata": {},
   "source": [
    "# 3.0 ANALISE EXPLORATORIA DOS DADOS"
   ]
  },
  {
   "cell_type": "code",
   "execution_count": 34,
   "metadata": {},
   "outputs": [],
   "source": [
    "df3 = df2.copy()"
   ]
  },
  {
   "cell_type": "code",
   "execution_count": 35,
   "metadata": {},
   "outputs": [
    {
     "data": {
      "text/html": [
       "<div>\n",
       "<style scoped>\n",
       "    .dataframe tbody tr th:only-of-type {\n",
       "        vertical-align: middle;\n",
       "    }\n",
       "\n",
       "    .dataframe tbody tr th {\n",
       "        vertical-align: top;\n",
       "    }\n",
       "\n",
       "    .dataframe thead th {\n",
       "        text-align: right;\n",
       "    }\n",
       "</style>\n",
       "<table border=\"1\" class=\"dataframe\">\n",
       "  <thead>\n",
       "    <tr style=\"text-align: right;\">\n",
       "      <th></th>\n",
       "      <th>state</th>\n",
       "      <th>account_length</th>\n",
       "      <th>area_code</th>\n",
       "      <th>international_plan</th>\n",
       "      <th>voice_mail_plan</th>\n",
       "      <th>number_vmail_messages</th>\n",
       "      <th>total_day_minutes</th>\n",
       "      <th>total_day_calls</th>\n",
       "      <th>total_day_charge</th>\n",
       "      <th>total_eve_minutes</th>\n",
       "      <th>total_eve_calls</th>\n",
       "      <th>total_eve_charge</th>\n",
       "      <th>total_night_minutes</th>\n",
       "      <th>total_night_calls</th>\n",
       "      <th>total_night_charge</th>\n",
       "      <th>total_intl_minutes</th>\n",
       "      <th>total_intl_calls</th>\n",
       "      <th>total_intl_charge</th>\n",
       "      <th>number_customer_service_calls</th>\n",
       "      <th>churn</th>\n",
       "      <th>total_minutes</th>\n",
       "      <th>total_calls</th>\n",
       "      <th>total_charge</th>\n",
       "      <th>tarifa_day</th>\n",
       "      <th>tarifa_eve</th>\n",
       "      <th>tarifa_night</th>\n",
       "      <th>tarifa_media</th>\n",
       "      <th>numero_de_planos</th>\n",
       "      <th>usou_vmail</th>\n",
       "      <th>ligou_customer_service</th>\n",
       "      <th>count_churn</th>\n",
       "    </tr>\n",
       "  </thead>\n",
       "  <tbody>\n",
       "    <tr>\n",
       "      <th>0</th>\n",
       "      <td>KS</td>\n",
       "      <td>128</td>\n",
       "      <td>area_code_415</td>\n",
       "      <td>no</td>\n",
       "      <td>yes</td>\n",
       "      <td>25</td>\n",
       "      <td>265.1</td>\n",
       "      <td>110</td>\n",
       "      <td>45.07</td>\n",
       "      <td>197.4</td>\n",
       "      <td>99</td>\n",
       "      <td>16.78</td>\n",
       "      <td>244.7</td>\n",
       "      <td>91</td>\n",
       "      <td>11.01</td>\n",
       "      <td>10.0</td>\n",
       "      <td>3</td>\n",
       "      <td>2.70</td>\n",
       "      <td>1</td>\n",
       "      <td>no</td>\n",
       "      <td>707.2</td>\n",
       "      <td>300</td>\n",
       "      <td>72.86</td>\n",
       "      <td>0.170011</td>\n",
       "      <td>0.085005</td>\n",
       "      <td>0.044994</td>\n",
       "      <td>0.103026</td>\n",
       "      <td>1.0</td>\n",
       "      <td>yes</td>\n",
       "      <td>yes</td>\n",
       "      <td>0</td>\n",
       "    </tr>\n",
       "    <tr>\n",
       "      <th>1</th>\n",
       "      <td>OH</td>\n",
       "      <td>107</td>\n",
       "      <td>area_code_415</td>\n",
       "      <td>no</td>\n",
       "      <td>yes</td>\n",
       "      <td>26</td>\n",
       "      <td>161.6</td>\n",
       "      <td>123</td>\n",
       "      <td>27.47</td>\n",
       "      <td>195.5</td>\n",
       "      <td>103</td>\n",
       "      <td>16.62</td>\n",
       "      <td>254.4</td>\n",
       "      <td>103</td>\n",
       "      <td>11.45</td>\n",
       "      <td>13.7</td>\n",
       "      <td>3</td>\n",
       "      <td>3.70</td>\n",
       "      <td>1</td>\n",
       "      <td>no</td>\n",
       "      <td>611.5</td>\n",
       "      <td>329</td>\n",
       "      <td>55.54</td>\n",
       "      <td>0.169988</td>\n",
       "      <td>0.085013</td>\n",
       "      <td>0.045008</td>\n",
       "      <td>0.090826</td>\n",
       "      <td>1.0</td>\n",
       "      <td>yes</td>\n",
       "      <td>yes</td>\n",
       "      <td>0</td>\n",
       "    </tr>\n",
       "    <tr>\n",
       "      <th>2</th>\n",
       "      <td>NJ</td>\n",
       "      <td>137</td>\n",
       "      <td>area_code_415</td>\n",
       "      <td>no</td>\n",
       "      <td>no</td>\n",
       "      <td>0</td>\n",
       "      <td>243.4</td>\n",
       "      <td>114</td>\n",
       "      <td>41.38</td>\n",
       "      <td>121.2</td>\n",
       "      <td>110</td>\n",
       "      <td>10.30</td>\n",
       "      <td>162.6</td>\n",
       "      <td>104</td>\n",
       "      <td>7.32</td>\n",
       "      <td>12.2</td>\n",
       "      <td>5</td>\n",
       "      <td>3.29</td>\n",
       "      <td>0</td>\n",
       "      <td>no</td>\n",
       "      <td>527.2</td>\n",
       "      <td>328</td>\n",
       "      <td>59.00</td>\n",
       "      <td>0.170008</td>\n",
       "      <td>0.084983</td>\n",
       "      <td>0.045018</td>\n",
       "      <td>0.111912</td>\n",
       "      <td>0.0</td>\n",
       "      <td>no</td>\n",
       "      <td>no</td>\n",
       "      <td>0</td>\n",
       "    </tr>\n",
       "    <tr>\n",
       "      <th>3</th>\n",
       "      <td>OH</td>\n",
       "      <td>84</td>\n",
       "      <td>area_code_408</td>\n",
       "      <td>yes</td>\n",
       "      <td>no</td>\n",
       "      <td>0</td>\n",
       "      <td>299.4</td>\n",
       "      <td>71</td>\n",
       "      <td>50.90</td>\n",
       "      <td>61.9</td>\n",
       "      <td>88</td>\n",
       "      <td>5.26</td>\n",
       "      <td>196.9</td>\n",
       "      <td>89</td>\n",
       "      <td>8.86</td>\n",
       "      <td>6.6</td>\n",
       "      <td>7</td>\n",
       "      <td>1.78</td>\n",
       "      <td>2</td>\n",
       "      <td>no</td>\n",
       "      <td>558.2</td>\n",
       "      <td>248</td>\n",
       "      <td>65.02</td>\n",
       "      <td>0.170007</td>\n",
       "      <td>0.084976</td>\n",
       "      <td>0.044997</td>\n",
       "      <td>0.116482</td>\n",
       "      <td>1.0</td>\n",
       "      <td>no</td>\n",
       "      <td>yes</td>\n",
       "      <td>0</td>\n",
       "    </tr>\n",
       "    <tr>\n",
       "      <th>4</th>\n",
       "      <td>OK</td>\n",
       "      <td>75</td>\n",
       "      <td>area_code_415</td>\n",
       "      <td>yes</td>\n",
       "      <td>no</td>\n",
       "      <td>0</td>\n",
       "      <td>166.7</td>\n",
       "      <td>113</td>\n",
       "      <td>28.34</td>\n",
       "      <td>148.3</td>\n",
       "      <td>122</td>\n",
       "      <td>12.61</td>\n",
       "      <td>186.9</td>\n",
       "      <td>121</td>\n",
       "      <td>8.41</td>\n",
       "      <td>10.1</td>\n",
       "      <td>3</td>\n",
       "      <td>2.73</td>\n",
       "      <td>3</td>\n",
       "      <td>no</td>\n",
       "      <td>501.9</td>\n",
       "      <td>356</td>\n",
       "      <td>49.36</td>\n",
       "      <td>0.170006</td>\n",
       "      <td>0.085030</td>\n",
       "      <td>0.044997</td>\n",
       "      <td>0.098346</td>\n",
       "      <td>1.0</td>\n",
       "      <td>no</td>\n",
       "      <td>yes</td>\n",
       "      <td>0</td>\n",
       "    </tr>\n",
       "  </tbody>\n",
       "</table>\n",
       "</div>"
      ],
      "text/plain": [
       "  state  account_length      area_code international_plan voice_mail_plan  number_vmail_messages  total_day_minutes  total_day_calls  total_day_charge  total_eve_minutes  total_eve_calls  total_eve_charge  total_night_minutes  total_night_calls  total_night_charge  total_intl_minutes  total_intl_calls  total_intl_charge  number_customer_service_calls churn  total_minutes  total_calls  total_charge  tarifa_day  tarifa_eve  tarifa_night  tarifa_media  numero_de_planos usou_vmail ligou_customer_service  count_churn\n",
       "0    KS             128  area_code_415                 no             yes                     25              265.1              110             45.07              197.4               99             16.78                244.7                 91               11.01                10.0                 3               2.70                              1    no          707.2          300         72.86    0.170011    0.085005      0.044994      0.103026               1.0        yes                    yes            0\n",
       "1    OH             107  area_code_415                 no             yes                     26              161.6              123             27.47              195.5              103             16.62                254.4                103               11.45                13.7                 3               3.70                              1    no          611.5          329         55.54    0.169988    0.085013      0.045008      0.090826               1.0        yes                    yes            0\n",
       "2    NJ             137  area_code_415                 no              no                      0              243.4              114             41.38              121.2              110             10.30                162.6                104                7.32                12.2                 5               3.29                              0    no          527.2          328         59.00    0.170008    0.084983      0.045018      0.111912               0.0         no                     no            0\n",
       "3    OH              84  area_code_408                yes              no                      0              299.4               71             50.90               61.9               88              5.26                196.9                 89                8.86                 6.6                 7               1.78                              2    no          558.2          248         65.02    0.170007    0.084976      0.044997      0.116482               1.0         no                    yes            0\n",
       "4    OK              75  area_code_415                yes              no                      0              166.7              113             28.34              148.3              122             12.61                186.9                121                8.41                10.1                 3               2.73                              3    no          501.9          356         49.36    0.170006    0.085030      0.044997      0.098346               1.0         no                    yes            0"
      ]
     },
     "execution_count": 35,
     "metadata": {},
     "output_type": "execute_result"
    }
   ],
   "source": [
    "df3.head()"
   ]
  },
  {
   "cell_type": "markdown",
   "metadata": {},
   "source": [
    "## 3.1 Analise Univarida"
   ]
  },
  {
   "cell_type": "markdown",
   "metadata": {
    "heading_collapsed": true,
    "hidden": true
   },
   "source": [
    "### 3.1.1 Response variable"
   ]
  },
  {
   "cell_type": "code",
   "execution_count": 36,
   "metadata": {},
   "outputs": [
    {
     "data": {
      "text/plain": [
       "no     0.8586\n",
       "yes    0.1414\n",
       "Name: churn, dtype: float64"
      ]
     },
     "execution_count": 36,
     "metadata": {},
     "output_type": "execute_result"
    }
   ],
   "source": [
    "df3[\"churn\"].value_counts(normalize=True)"
   ]
  },
  {
   "cell_type": "code",
   "execution_count": 37,
   "metadata": {},
   "outputs": [
    {
     "data": {
      "text/plain": [
       "<AxesSubplot:xlabel='churn', ylabel='count'>"
      ]
     },
     "execution_count": 37,
     "metadata": {},
     "output_type": "execute_result"
    },
    {
     "data": {
      "image/png": "[encoded data removed]",
      "text/plain": [
       "<Figure size 1800x864 with 1 Axes>"
      ]
     },
     "metadata": {},
     "output_type": "display_data"
    }
   ],
   "source": [
    "sns.countplot(df3[\"churn\"])"
   ]
  },
  {
   "cell_type": "markdown",
   "metadata": {
    "heading_collapsed": true,
    "hidden": true
   },
   "source": [
    "### 3.1.2 Numerical variable"
   ]
  },
  {
   "cell_type": "code",
   "execution_count": 38,
   "metadata": {},
   "outputs": [],
   "source": [
    "num_attributes = df3.select_dtypes(include = [\"int64\", \"float64\"])\n",
    "cat_attributes = df3.select_dtypes(include = [\"object\"])"
   ]
  },
  {
   "cell_type": "code",
   "execution_count": 39,
   "metadata": {},
   "outputs": [
    {
     "data": {
      "image/png": "[encoded data removed]",
      "text/plain": [
       "<Figure size 1440x720 with 25 Axes>"
      ]
     },
     "metadata": {},
     "output_type": "display_data"
    }
   ],
   "source": [
    "num_attributes.hist( bins=25 , figsize = (20,10));"
   ]
  },
  {
   "cell_type": "markdown",
   "metadata": {
    "heading_collapsed": true,
    "hidden": true
   },
   "source": [
    "### 3.1.3 Categorical Variable"
   ]
  },
  {
   "cell_type": "code",
   "execution_count": 40,
   "metadata": {},
   "outputs": [
    {
     "data": {
      "text/plain": [
       "Index(['state', 'area_code', 'international_plan', 'voice_mail_plan', 'churn',\n",
       "       'usou_vmail', 'ligou_customer_service'],\n",
       "      dtype='object')"
      ]
     },
     "execution_count": 40,
     "metadata": {},
     "output_type": "execute_result"
    }
   ],
   "source": [
    "cat_attributes.columns"
   ]
  },
  {
   "cell_type": "code",
   "execution_count": 41,
   "metadata": {},
   "outputs": [
    {
     "data": {
      "text/plain": [
       "area_code_415    2495\n",
       "area_code_408    1259\n",
       "area_code_510    1246\n",
       "Name: area_code, dtype: int64"
      ]
     },
     "execution_count": 41,
     "metadata": {},
     "output_type": "execute_result"
    }
   ],
   "source": [
    "df3['area_code'].value_counts()"
   ]
  },
  {
   "cell_type": "code",
   "execution_count": 42,
   "metadata": {},
   "outputs": [
    {
     "data": {
      "text/plain": [
       "<matplotlib.legend.Legend at 0x166f75fec10>"
      ]
     },
     "execution_count": 42,
     "metadata": {},
     "output_type": "execute_result"
    },
    {
     "data": {
      "image/png": "[encoded data removed]",
      "text/plain": [
       "<Figure size 1800x864 with 6 Axes>"
      ]
     },
     "metadata": {},
     "output_type": "display_data"
    }
   ],
   "source": [
    "plt.subplot(3,2,1)\n",
    "ax1 = sns.countplot( df3[\"area_code\"] )\n",
    "\n",
    "plt.subplot(3,2,2)\n",
    "ax2 = sns.countplot( df3[\"churn\"], hue=df3[\"area_code\"])\n",
    "ax2.bar_label(ax2.containers[0])\n",
    "ax2.bar_label(ax2.containers[1])\n",
    "ax2.bar_label(ax2.containers[2])\n",
    "\n",
    "#store_type\n",
    "plt.subplot(3,2,3)\n",
    "ax3 = sns.countplot( df3[\"international_plan\"] )\n",
    "\n",
    "\n",
    "plt.subplot(3,2,4)\n",
    "ax4 = sns.countplot( df3[\"churn\"], hue=df3[\"international_plan\"])\n",
    "ax4.bar_label(ax4.containers[0])\n",
    "ax4.bar_label(ax4.containers[1])\n",
    "plt.legend()\n",
    "\n",
    "#assortment\t\n",
    "plt.subplot(3,2,5)\n",
    "ax5 = sns.countplot( df3[\"voice_mail_plan\"] )\n",
    "\n",
    "\n",
    "plt.subplot(3,2,6)\n",
    "ax6 = sns.countplot( df3[\"churn\"], hue=df3[\"voice_mail_plan\"])\n",
    "ax6.bar_label(ax6.containers[0])\n",
    "ax6.bar_label(ax6.containers[1])\n",
    "plt.legend()"
   ]
  },
  {
   "cell_type": "code",
   "execution_count": 43,
   "metadata": {},
   "outputs": [
    {
     "data": {
      "text/html": [
       "<div>\n",
       "<style scoped>\n",
       "    .dataframe tbody tr th:only-of-type {\n",
       "        vertical-align: middle;\n",
       "    }\n",
       "\n",
       "    .dataframe tbody tr th {\n",
       "        vertical-align: top;\n",
       "    }\n",
       "\n",
       "    .dataframe thead th {\n",
       "        text-align: right;\n",
       "    }\n",
       "</style>\n",
       "<table border=\"1\" class=\"dataframe\">\n",
       "  <thead>\n",
       "    <tr style=\"text-align: right;\">\n",
       "      <th></th>\n",
       "      <th>state</th>\n",
       "      <th>AK</th>\n",
       "      <th>AL</th>\n",
       "      <th>AR</th>\n",
       "      <th>AZ</th>\n",
       "      <th>CA</th>\n",
       "      <th>CO</th>\n",
       "      <th>CT</th>\n",
       "      <th>DC</th>\n",
       "      <th>DE</th>\n",
       "      <th>FL</th>\n",
       "      <th>GA</th>\n",
       "      <th>HI</th>\n",
       "      <th>IA</th>\n",
       "      <th>ID</th>\n",
       "      <th>IL</th>\n",
       "      <th>IN</th>\n",
       "      <th>KS</th>\n",
       "      <th>KY</th>\n",
       "      <th>LA</th>\n",
       "      <th>MA</th>\n",
       "      <th>MD</th>\n",
       "      <th>ME</th>\n",
       "      <th>MI</th>\n",
       "      <th>MN</th>\n",
       "      <th>MO</th>\n",
       "      <th>MS</th>\n",
       "      <th>MT</th>\n",
       "      <th>NC</th>\n",
       "      <th>ND</th>\n",
       "      <th>NE</th>\n",
       "      <th>NH</th>\n",
       "      <th>NJ</th>\n",
       "      <th>NM</th>\n",
       "      <th>NV</th>\n",
       "      <th>NY</th>\n",
       "      <th>OH</th>\n",
       "      <th>OK</th>\n",
       "      <th>OR</th>\n",
       "      <th>PA</th>\n",
       "      <th>RI</th>\n",
       "      <th>SC</th>\n",
       "      <th>SD</th>\n",
       "      <th>TN</th>\n",
       "      <th>TX</th>\n",
       "      <th>UT</th>\n",
       "      <th>VA</th>\n",
       "      <th>VT</th>\n",
       "      <th>WA</th>\n",
       "      <th>WI</th>\n",
       "      <th>WV</th>\n",
       "      <th>WY</th>\n",
       "    </tr>\n",
       "    <tr>\n",
       "      <th></th>\n",
       "      <th>churn</th>\n",
       "      <th></th>\n",
       "      <th></th>\n",
       "      <th></th>\n",
       "      <th></th>\n",
       "      <th></th>\n",
       "      <th></th>\n",
       "      <th></th>\n",
       "      <th></th>\n",
       "      <th></th>\n",
       "      <th></th>\n",
       "      <th></th>\n",
       "      <th></th>\n",
       "      <th></th>\n",
       "      <th></th>\n",
       "      <th></th>\n",
       "      <th></th>\n",
       "      <th></th>\n",
       "      <th></th>\n",
       "      <th></th>\n",
       "      <th></th>\n",
       "      <th></th>\n",
       "      <th></th>\n",
       "      <th></th>\n",
       "      <th></th>\n",
       "      <th></th>\n",
       "      <th></th>\n",
       "      <th></th>\n",
       "      <th></th>\n",
       "      <th></th>\n",
       "      <th></th>\n",
       "      <th></th>\n",
       "      <th></th>\n",
       "      <th></th>\n",
       "      <th></th>\n",
       "      <th></th>\n",
       "      <th></th>\n",
       "      <th></th>\n",
       "      <th></th>\n",
       "      <th></th>\n",
       "      <th></th>\n",
       "      <th></th>\n",
       "      <th></th>\n",
       "      <th></th>\n",
       "      <th></th>\n",
       "      <th></th>\n",
       "      <th></th>\n",
       "      <th></th>\n",
       "      <th></th>\n",
       "      <th></th>\n",
       "      <th></th>\n",
       "      <th></th>\n",
       "    </tr>\n",
       "  </thead>\n",
       "  <tbody>\n",
       "    <tr>\n",
       "      <th rowspan=\"2\" valign=\"top\">count</th>\n",
       "      <th>no</th>\n",
       "      <td>67</td>\n",
       "      <td>111</td>\n",
       "      <td>76</td>\n",
       "      <td>80</td>\n",
       "      <td>38</td>\n",
       "      <td>85</td>\n",
       "      <td>83</td>\n",
       "      <td>79</td>\n",
       "      <td>79</td>\n",
       "      <td>78</td>\n",
       "      <td>73</td>\n",
       "      <td>81</td>\n",
       "      <td>61</td>\n",
       "      <td>105</td>\n",
       "      <td>81</td>\n",
       "      <td>84</td>\n",
       "      <td>81</td>\n",
       "      <td>84</td>\n",
       "      <td>75</td>\n",
       "      <td>86</td>\n",
       "      <td>81</td>\n",
       "      <td>84</td>\n",
       "      <td>85</td>\n",
       "      <td>105</td>\n",
       "      <td>81</td>\n",
       "      <td>82</td>\n",
       "      <td>78</td>\n",
       "      <td>79</td>\n",
       "      <td>78</td>\n",
       "      <td>82</td>\n",
       "      <td>83</td>\n",
       "      <td>84</td>\n",
       "      <td>81</td>\n",
       "      <td>73</td>\n",
       "      <td>94</td>\n",
       "      <td>101</td>\n",
       "      <td>74</td>\n",
       "      <td>96</td>\n",
       "      <td>69</td>\n",
       "      <td>92</td>\n",
       "      <td>75</td>\n",
       "      <td>73</td>\n",
       "      <td>75</td>\n",
       "      <td>90</td>\n",
       "      <td>96</td>\n",
       "      <td>112</td>\n",
       "      <td>91</td>\n",
       "      <td>74</td>\n",
       "      <td>98</td>\n",
       "      <td>136</td>\n",
       "      <td>104</td>\n",
       "    </tr>\n",
       "    <tr>\n",
       "      <th>yes</th>\n",
       "      <td>5</td>\n",
       "      <td>13</td>\n",
       "      <td>16</td>\n",
       "      <td>9</td>\n",
       "      <td>14</td>\n",
       "      <td>11</td>\n",
       "      <td>16</td>\n",
       "      <td>9</td>\n",
       "      <td>15</td>\n",
       "      <td>12</td>\n",
       "      <td>10</td>\n",
       "      <td>5</td>\n",
       "      <td>8</td>\n",
       "      <td>14</td>\n",
       "      <td>7</td>\n",
       "      <td>14</td>\n",
       "      <td>18</td>\n",
       "      <td>15</td>\n",
       "      <td>7</td>\n",
       "      <td>17</td>\n",
       "      <td>21</td>\n",
       "      <td>19</td>\n",
       "      <td>18</td>\n",
       "      <td>20</td>\n",
       "      <td>12</td>\n",
       "      <td>17</td>\n",
       "      <td>21</td>\n",
       "      <td>12</td>\n",
       "      <td>10</td>\n",
       "      <td>6</td>\n",
       "      <td>12</td>\n",
       "      <td>28</td>\n",
       "      <td>10</td>\n",
       "      <td>17</td>\n",
       "      <td>20</td>\n",
       "      <td>15</td>\n",
       "      <td>16</td>\n",
       "      <td>18</td>\n",
       "      <td>8</td>\n",
       "      <td>7</td>\n",
       "      <td>16</td>\n",
       "      <td>12</td>\n",
       "      <td>14</td>\n",
       "      <td>26</td>\n",
       "      <td>16</td>\n",
       "      <td>6</td>\n",
       "      <td>10</td>\n",
       "      <td>24</td>\n",
       "      <td>8</td>\n",
       "      <td>22</td>\n",
       "      <td>11</td>\n",
       "    </tr>\n",
       "  </tbody>\n",
       "</table>\n",
       "</div>"
      ],
      "text/plain": [
       "state        AK   AL  AR  AZ  CA  CO  CT  DC  DE  FL  GA  HI  IA   ID  IL  IN  KS  KY  LA  MA  MD  ME  MI   MN  MO  MS  MT  NC  ND  NE  NH  NJ  NM  NV  NY   OH  OK  OR  PA  RI  SC  SD  TN  TX  UT   VA  VT  WA  WI   WV   WY\n",
       "      churn                                                                                                                                                                                                                   \n",
       "count no     67  111  76  80  38  85  83  79  79  78  73  81  61  105  81  84  81  84  75  86  81  84  85  105  81  82  78  79  78  82  83  84  81  73  94  101  74  96  69  92  75  73  75  90  96  112  91  74  98  136  104\n",
       "      yes     5   13  16   9  14  11  16   9  15  12  10   5   8   14   7  14  18  15   7  17  21  19  18   20  12  17  21  12  10   6  12  28  10  17  20   15  16  18   8   7  16  12  14  26  16    6  10  24   8   22   11"
      ]
     },
     "execution_count": 43,
     "metadata": {},
     "output_type": "execute_result"
    }
   ],
   "source": [
    "a = df3[['state','churn']]\n",
    "a['count'] = 1\n",
    "pd.pivot_table(a, index='state', columns='churn', aggfunc=np.sum).T"
   ]
  },
  {
   "cell_type": "markdown",
   "metadata": {},
   "source": [
    "## 3.2 Análise Bivariada"
   ]
  },
  {
   "cell_type": "markdown",
   "metadata": {},
   "source": [
    "### H1. Clientes com mais planos tem menor representatividade no churn\n",
    "**FALSO** Clientes com apenas voice mail plan são menos propensos a ralizar churn, o contrário acontece com os clientes com internacional plan, quando o cliente tem os dois planos ele também está mais propenso ao churn"
   ]
  },
  {
   "cell_type": "code",
   "execution_count": 44,
   "metadata": {},
   "outputs": [],
   "source": [
    "dois_planos = pd.DataFrame(df3[df3['numero_de_planos']==2]['churn'].value_counts(normalize=True)).reset_index()\n",
    "um_plano = pd.DataFrame(df3[df3['numero_de_planos']==1]['churn'].value_counts(normalize=True)).reset_index()\n",
    "nenhum_plano = pd.DataFrame(df3[df3['numero_de_planos']==0]['churn'].value_counts(normalize=True)).reset_index()\n",
    "aux1 = nenhum_plano.merge(um_plano, on='index', suffixes=('_nenhum_plano', '_um_plano')).\\\n",
    "merge(dois_planos, on='index').rename(columns={\"churn\": \"churn_dois_planos\", 'index': 'churn'})"
   ]
  },
  {
   "cell_type": "code",
   "execution_count": 45,
   "metadata": {},
   "outputs": [
    {
     "data": {
      "text/html": [
       "<div>\n",
       "<style scoped>\n",
       "    .dataframe tbody tr th:only-of-type {\n",
       "        vertical-align: middle;\n",
       "    }\n",
       "\n",
       "    .dataframe tbody tr th {\n",
       "        vertical-align: top;\n",
       "    }\n",
       "\n",
       "    .dataframe thead th {\n",
       "        text-align: right;\n",
       "    }\n",
       "</style>\n",
       "<table border=\"1\" class=\"dataframe\">\n",
       "  <thead>\n",
       "    <tr style=\"text-align: right;\">\n",
       "      <th></th>\n",
       "      <th>churn</th>\n",
       "      <th>churn_nenhum_plano</th>\n",
       "      <th>churn_um_plano</th>\n",
       "      <th>churn_dois_planos</th>\n",
       "    </tr>\n",
       "  </thead>\n",
       "  <tbody>\n",
       "    <tr>\n",
       "      <th>0</th>\n",
       "      <td>no</td>\n",
       "      <td>0.864468</td>\n",
       "      <td>0.863755</td>\n",
       "      <td>0.648855</td>\n",
       "    </tr>\n",
       "    <tr>\n",
       "      <th>1</th>\n",
       "      <td>yes</td>\n",
       "      <td>0.135532</td>\n",
       "      <td>0.136245</td>\n",
       "      <td>0.351145</td>\n",
       "    </tr>\n",
       "  </tbody>\n",
       "</table>\n",
       "</div>"
      ],
      "text/plain": [
       "  churn  churn_nenhum_plano  churn_um_plano  churn_dois_planos\n",
       "0    no            0.864468        0.863755           0.648855\n",
       "1   yes            0.135532        0.136245           0.351145"
      ]
     },
     "execution_count": 45,
     "metadata": {},
     "output_type": "execute_result"
    }
   ],
   "source": [
    "aux1"
   ]
  },
  {
   "cell_type": "code",
   "execution_count": 46,
   "metadata": {},
   "outputs": [
    {
     "data": {
      "text/html": [
       "<div>\n",
       "<style scoped>\n",
       "    .dataframe tbody tr th:only-of-type {\n",
       "        vertical-align: middle;\n",
       "    }\n",
       "\n",
       "    .dataframe tbody tr th {\n",
       "        vertical-align: top;\n",
       "    }\n",
       "\n",
       "    .dataframe thead th {\n",
       "        text-align: right;\n",
       "    }\n",
       "</style>\n",
       "<table border=\"1\" class=\"dataframe\">\n",
       "  <thead>\n",
       "    <tr style=\"text-align: right;\">\n",
       "      <th></th>\n",
       "      <th>voice_mail_plan</th>\n",
       "      <th>count_churn</th>\n",
       "      <th>voice_mail_plan_count</th>\n",
       "      <th>porcentagem_churn_voice_mail_plan</th>\n",
       "    </tr>\n",
       "  </thead>\n",
       "  <tbody>\n",
       "    <tr>\n",
       "      <th>0</th>\n",
       "      <td>no</td>\n",
       "      <td>605</td>\n",
       "      <td>3677</td>\n",
       "      <td>0.164536</td>\n",
       "    </tr>\n",
       "    <tr>\n",
       "      <th>1</th>\n",
       "      <td>yes</td>\n",
       "      <td>102</td>\n",
       "      <td>1323</td>\n",
       "      <td>0.077098</td>\n",
       "    </tr>\n",
       "  </tbody>\n",
       "</table>\n",
       "</div>"
      ],
      "text/plain": [
       "  voice_mail_plan  count_churn  voice_mail_plan_count  porcentagem_churn_voice_mail_plan\n",
       "0              no          605                   3677                           0.164536\n",
       "1             yes          102                   1323                           0.077098"
      ]
     },
     "execution_count": 46,
     "metadata": {},
     "output_type": "execute_result"
    }
   ],
   "source": [
    "a= pd.DataFrame(df3.groupby(\"voice_mail_plan\")['count_churn'].sum()).reset_index()\n",
    "b= pd.DataFrame(df3[\"voice_mail_plan\"].value_counts()).reset_index()\n",
    "c= a.merge(b, right_on='index', left_on=\"voice_mail_plan\",suffixes=('', '_count')).drop(['index'], axis=1)\n",
    "c['porcentagem_churn_voice_mail_plan']= c['count_churn']/c['voice_mail_plan_count'] \n",
    "c"
   ]
  },
  {
   "cell_type": "code",
   "execution_count": 47,
   "metadata": {},
   "outputs": [
    {
     "data": {
      "text/html": [
       "<div>\n",
       "<style scoped>\n",
       "    .dataframe tbody tr th:only-of-type {\n",
       "        vertical-align: middle;\n",
       "    }\n",
       "\n",
       "    .dataframe tbody tr th {\n",
       "        vertical-align: top;\n",
       "    }\n",
       "\n",
       "    .dataframe thead th {\n",
       "        text-align: right;\n",
       "    }\n",
       "</style>\n",
       "<table border=\"1\" class=\"dataframe\">\n",
       "  <thead>\n",
       "    <tr style=\"text-align: right;\">\n",
       "      <th></th>\n",
       "      <th>international_plan</th>\n",
       "      <th>count_churn</th>\n",
       "      <th>international_plan_count</th>\n",
       "      <th>porcentagem_churn_int_plan</th>\n",
       "    </tr>\n",
       "  </thead>\n",
       "  <tbody>\n",
       "    <tr>\n",
       "      <th>0</th>\n",
       "      <td>no</td>\n",
       "      <td>508</td>\n",
       "      <td>4527</td>\n",
       "      <td>0.112216</td>\n",
       "    </tr>\n",
       "    <tr>\n",
       "      <th>1</th>\n",
       "      <td>yes</td>\n",
       "      <td>199</td>\n",
       "      <td>473</td>\n",
       "      <td>0.420719</td>\n",
       "    </tr>\n",
       "  </tbody>\n",
       "</table>\n",
       "</div>"
      ],
      "text/plain": [
       "  international_plan  count_churn  international_plan_count  porcentagem_churn_int_plan\n",
       "0                 no          508                      4527                    0.112216\n",
       "1                yes          199                       473                    0.420719"
      ]
     },
     "execution_count": 47,
     "metadata": {},
     "output_type": "execute_result"
    }
   ],
   "source": [
    "a= pd.DataFrame(df3.groupby('international_plan')['count_churn'].sum()).reset_index()\n",
    "b= pd.DataFrame(df3['international_plan'].value_counts()).reset_index()\n",
    "c= a.merge(b, right_on='index', left_on='international_plan',suffixes=('', '_count')).drop(['index'], axis=1)\n",
    "c['porcentagem_churn_int_plan']= c['count_churn']/c['international_plan_count'] \n",
    "c"
   ]
  },
  {
   "cell_type": "markdown",
   "metadata": {},
   "source": [
    "### H2. O consumo influencia na probabilidade de churn\n",
    "**VERDADEIRO** Os clientes que realizaram o churn têm mais minutos em chamada do que os clientes ativos, porém vemos que os clientes que não usam o vmail (ou quanto menos usam o vmail) estão mais propensos ao churn"
   ]
  },
  {
   "cell_type": "code",
   "execution_count": 48,
   "metadata": {},
   "outputs": [
    {
     "data": {
      "text/plain": [
       "churn\n",
       "no     8.291870\n",
       "yes    4.496464\n",
       "Name: number_vmail_messages, dtype: float64"
      ]
     },
     "execution_count": 48,
     "metadata": {},
     "output_type": "execute_result"
    }
   ],
   "source": [
    "df3.groupby('churn')['number_vmail_messages'].mean()"
   ]
  },
  {
   "cell_type": "code",
   "execution_count": 49,
   "metadata": {},
   "outputs": [
    {
     "data": {
      "text/plain": [
       "<AxesSubplot:xlabel='churn', ylabel='number_vmail_messages'>"
      ]
     },
     "execution_count": 49,
     "metadata": {},
     "output_type": "execute_result"
    },
    {
     "data": {
      "image/png": "[encoded data removed]",
      "text/plain": [
       "<Figure size 1800x864 with 3 Axes>"
      ]
     },
     "metadata": {},
     "output_type": "display_data"
    }
   ],
   "source": [
    "aux1 = df3[['churn', 'total_minutes']]\n",
    "aux2 = df3[['usou_vmail','count_churn']].groupby(\"usou_vmail\").sum().reset_index()\n",
    "aux3 = pd.DataFrame(df3['usou_vmail'].value_counts()).reset_index()\n",
    "aux4 = aux2.merge(aux3, right_on='index', left_on='usou_vmail',suffixes=('', '_count')).drop(['index'], axis=1)\n",
    "aux4['porcentagem_churn']=aux4['count_churn']/aux4['usou_vmail_count']\n",
    "plt.subplot(1,3,1)\n",
    "sns.boxplot( x=\"churn\",y='total_minutes', data=aux1, showmeans=True, meanprops={\"marker\":\"o\", \n",
    "                                                                                \"markerfacecolor\":\"white\", \n",
    "                                                                                \"markeredgecolor\":\"black\", \n",
    "                                                                                \"markersize\":\"10\"})\n",
    "\n",
    "plt.subplot(1,3,2)\n",
    "sns.barplot(x='usou_vmail',y='porcentagem_churn',data=aux4)\n",
    "\n",
    "plt.subplot(1,3,3)\n",
    "sns.barplot(x='churn',y='number_vmail_messages',data=df3)"
   ]
  },
  {
   "cell_type": "markdown",
   "metadata": {},
   "source": [
    "### H3. Clientes que pagam mais estão mais propensos ao churn\n",
    "**VERDADEIRO** Clientes que realizaram churn tinham maiores despesas "
   ]
  },
  {
   "cell_type": "code",
   "execution_count": 50,
   "metadata": {},
   "outputs": [],
   "source": [
    "aux1 = df3[['account_length','total_charge','churn']]\n",
    "aux1['charge_per_day'] = aux1['total_charge']/aux1['account_length']"
   ]
  },
  {
   "cell_type": "code",
   "execution_count": 51,
   "metadata": {},
   "outputs": [
    {
     "data": {
      "text/html": [
       "<div>\n",
       "<style scoped>\n",
       "    .dataframe tbody tr th:only-of-type {\n",
       "        vertical-align: middle;\n",
       "    }\n",
       "\n",
       "    .dataframe tbody tr th {\n",
       "        vertical-align: top;\n",
       "    }\n",
       "\n",
       "    .dataframe thead th {\n",
       "        text-align: right;\n",
       "    }\n",
       "</style>\n",
       "<table border=\"1\" class=\"dataframe\">\n",
       "  <thead>\n",
       "    <tr style=\"text-align: right;\">\n",
       "      <th></th>\n",
       "      <th>total_charge</th>\n",
       "      <th>charge_per_day</th>\n",
       "    </tr>\n",
       "    <tr>\n",
       "      <th>churn</th>\n",
       "      <th></th>\n",
       "      <th></th>\n",
       "    </tr>\n",
       "  </thead>\n",
       "  <tbody>\n",
       "    <tr>\n",
       "      <th>no</th>\n",
       "      <td>55.751740</td>\n",
       "      <td>0.893988</td>\n",
       "    </tr>\n",
       "    <tr>\n",
       "      <th>yes</th>\n",
       "      <td>62.611584</td>\n",
       "      <td>0.900129</td>\n",
       "    </tr>\n",
       "  </tbody>\n",
       "</table>\n",
       "</div>"
      ],
      "text/plain": [
       "       total_charge  charge_per_day\n",
       "churn                              \n",
       "no        55.751740        0.893988\n",
       "yes       62.611584        0.900129"
      ]
     },
     "execution_count": 51,
     "metadata": {},
     "output_type": "execute_result"
    }
   ],
   "source": [
    "aux1.groupby('churn')['total_charge', 'charge_per_day'].mean()"
   ]
  },
  {
   "cell_type": "code",
   "execution_count": 52,
   "metadata": {},
   "outputs": [
    {
     "data": {
      "text/plain": [
       "<AxesSubplot:xlabel='churn', ylabel='charge_per_day'>"
      ]
     },
     "execution_count": 52,
     "metadata": {},
     "output_type": "execute_result"
    },
    {
     "data": {
      "image/png": "[encoded data removed]",
      "text/plain": [
       "<Figure size 1800x864 with 2 Axes>"
      ]
     },
     "metadata": {},
     "output_type": "display_data"
    }
   ],
   "source": [
    "plt.subplot(1,2,1)\n",
    "sns.boxplot( x=\"churn\",y='total_charge', data=aux1, showmeans=True, showfliers=False, meanprops={\"marker\":\"o\", \n",
    "                                                                                \"markerfacecolor\":\"white\", \n",
    "                                                                                \"markeredgecolor\":\"black\", \n",
    "                                                                                \"markersize\":\"10\"})\n",
    "\n",
    "plt.subplot(1,2,2)\n",
    "sns.boxplot( x=\"churn\",y='charge_per_day', data=aux1, showmeans=True, showfliers=False, meanprops={\"marker\":\"o\", \n",
    "                                                                                \"markerfacecolor\":\"white\", \n",
    "                                                                                \"markeredgecolor\":\"black\", \n",
    "                                                                                \"markersize\":\"10\"})"
   ]
  },
  {
   "cell_type": "markdown",
   "metadata": {},
   "source": [
    "### H4. Clientes com tarifas maiores mais propensos ao churn\n",
    "**VERDADEIRO** Clientes que realizaram churn pagam tarifas maiores"
   ]
  },
  {
   "cell_type": "code",
   "execution_count": 53,
   "metadata": {},
   "outputs": [
    {
     "data": {
      "text/plain": [
       "churn\n",
       "no     0.097085\n",
       "yes    0.099485\n",
       "Name: tarifa_media, dtype: float64"
      ]
     },
     "execution_count": 53,
     "metadata": {},
     "output_type": "execute_result"
    }
   ],
   "source": [
    "df3.groupby('churn')['tarifa_media'].mean()"
   ]
  },
  {
   "cell_type": "code",
   "execution_count": 54,
   "metadata": {},
   "outputs": [
    {
     "data": {
      "text/plain": [
       "<matplotlib.legend.Legend at 0x166f7e94fd0>"
      ]
     },
     "execution_count": 54,
     "metadata": {},
     "output_type": "execute_result"
    },
    {
     "data": {
      "image/png": "[encoded data removed]",
      "text/plain": [
       "<Figure size 1800x864 with 2 Axes>"
      ]
     },
     "metadata": {},
     "output_type": "display_data"
    }
   ],
   "source": [
    "plt.subplot(1,2,1)\n",
    "sns.boxplot( x=\"churn\",y='tarifa_media', data=df3, showmeans=True, showfliers=False, meanprops={\"marker\":\"o\", \n",
    "                                                                                \"markerfacecolor\":\"white\", \n",
    "                                                                                \"markeredgecolor\":\"black\", \n",
    "                                                                                \"markersize\":\"10\"})\n",
    "\n",
    "plt.subplot(1,2,2)\n",
    "sns.kdeplot( df3[df3[\"churn\"] == \"yes\"][\"tarifa_media\"], label = \"churn_yes\", shade = True)\n",
    "sns.kdeplot( df3[df3[\"churn\"] == \"no\"][\"tarifa_media\"], label = \"churn_no\", shade = True)\n",
    "plt.legend()"
   ]
  },
  {
   "cell_type": "markdown",
   "metadata": {},
   "source": [
    "### H5. Clientes com menos ligações são mais propensos ao churn\n",
    "**FALSO** O número de ligações não demosntra ter um impacto significativo no número de churns, com exceção, talvez, entre os clientes sem nenhum plano adicionl, porém ainda com valores pouco conclusivos"
   ]
  },
  {
   "cell_type": "code",
   "execution_count": 55,
   "metadata": {},
   "outputs": [
    {
     "data": {
      "text/plain": [
       "<matplotlib.legend.Legend at 0x166f7ef6df0>"
      ]
     },
     "execution_count": 55,
     "metadata": {},
     "output_type": "execute_result"
    },
    {
     "data": {
      "image/png": "[encoded data removed]",
      "text/plain": [
       "<Figure size 1800x864 with 2 Axes>"
      ]
     },
     "metadata": {},
     "output_type": "display_data"
    }
   ],
   "source": [
    "plt.subplot(1,2,1)\n",
    "sns.boxplot( x=\"churn\",y='total_calls', data=df3, showmeans=True, hue='numero_de_planos', showfliers=False, meanprops={\"marker\":\"o\", \n",
    "                                                                                \"markerfacecolor\":\"white\", \n",
    "                                                                                \"markeredgecolor\":\"black\", \n",
    "                                                                                \"markersize\":\"10\"})\n",
    "\n",
    "plt.subplot(1,2,2)\n",
    "sns.kdeplot( df3[df3[\"churn\"] == \"yes\"][\"total_calls\"], label = \"churn_yes\", shade = True)\n",
    "sns.kdeplot( df3[df3[\"churn\"] == \"no\"][\"total_calls\"], label = \"churn_no\", shade = True)\n",
    "plt.legend()"
   ]
  },
  {
   "cell_type": "markdown",
   "metadata": {},
   "source": [
    "### H6. Clientes com mais ligações pro customer service são mais propensos ao churn\n",
    "**VERDADEIRO** Usários que realizaram o churn fazem mais ligações ao customer service"
   ]
  },
  {
   "cell_type": "code",
   "execution_count": 56,
   "metadata": {},
   "outputs": [],
   "source": [
    "aux1 = df3[df3.ligou_customer_service == 'yes']\n",
    "aux2 = df3[df3.ligou_customer_service == 'no']"
   ]
  },
  {
   "cell_type": "code",
   "execution_count": 57,
   "metadata": {},
   "outputs": [
    {
     "data": {
      "text/plain": [
       "Text(0.5, 1.0, 'Somente Usuários que ligaram')"
      ]
     },
     "execution_count": 57,
     "metadata": {},
     "output_type": "execute_result"
    },
    {
     "data": {
      "image/png": "[encoded data removed]",
      "text/plain": [
       "<Figure size 1800x864 with 4 Axes>"
      ]
     },
     "metadata": {},
     "output_type": "display_data"
    }
   ],
   "source": [
    "plt.subplot(3,2,1)\n",
    "sns.boxplot( x=\"churn\",y='number_customer_service_calls', data=df3, showmeans=True, showfliers=False, meanprops={\"marker\":\"o\", \n",
    "                                                                                \"markerfacecolor\":\"white\", \n",
    "                                                                                \"markeredgecolor\":\"black\", \n",
    "                                                                                \"markersize\":\"10\"}).set_title('Todos os Usuários')\n",
    "\n",
    "plt.subplot(3,2,2)\n",
    "sns.barplot(x='churn', y='number_customer_service_calls', data=df3).set_title('Todos os Usuários')\n",
    "\n",
    "plt.subplot(2,2,3)\n",
    "sns.boxplot(x=\"churn\",y='number_customer_service_calls', data=aux1, showmeans=True, showfliers=False, meanprops={\"marker\":\"o\", \n",
    "                                                                                \"markerfacecolor\":\"white\", \n",
    "                                                                                \"markeredgecolor\":\"black\", \n",
    "                                                                                \"markersize\":\"10\"}).set_title('Somente Usuários que ligaram')\n",
    "\n",
    "plt.subplot(2,2,4)\n",
    "sns.barplot(x='churn', y='number_customer_service_calls', data=aux1).set_title('Somente Usuários que ligaram')"
   ]
  },
  {
   "cell_type": "markdown",
   "metadata": {},
   "source": [
    "### 3.2.1 Resumo das Hipóteses"
   ]
  },
  {
   "cell_type": "code",
   "execution_count": 58,
   "metadata": {},
   "outputs": [
    {
     "name": "stdout",
     "output_type": "stream",
     "text": [
      "Hipotese    Conclusao    Relevancia\n",
      "----------  -----------  ------------\n",
      "H1          Falsa        Media\n",
      "H2          Verdade      Forte\n",
      "H3          Verdade      Media\n",
      "H4          Verdade      Media\n",
      "H5          Falso        Forte\n",
      "H6          Verdade      Forte\n"
     ]
    }
   ],
   "source": [
    "tab = [[\"Hipotese\", \"Conclusao\", \"Relevancia\"],\n",
    "      [\"H1\", \"Falsa\",\"Media\"],\n",
    "      [\"H2\", \"Verdade\",\"Forte\"],\n",
    "      [\"H3\", \"Verdade\",\"Media\"],\n",
    "      [\"H4\", \"Verdade\",\"Media\"],\n",
    "      [\"H5\", \"Falso\",\"Forte\"],\n",
    "      [\"H6\", \"Verdade\",\"Forte\"]]\n",
    "tabela_de_relevancia = tabulate(tab, headers= 'firstrow' )\n",
    "print( tabela_de_relevancia )"
   ]
  },
  {
   "cell_type": "markdown",
   "metadata": {},
   "source": [
    "### 3.2.2 Colunas Fortes"
   ]
  },
  {
   "cell_type": "code",
   "execution_count": 59,
   "metadata": {},
   "outputs": [],
   "source": [
    "cols_importantes = ['number_customer_service_calls', \n",
    "                    'total_calls',\n",
    "                    'tarifa_media',\n",
    "                    'account_length',\n",
    "                    'total_charge',\n",
    "                    'number_vmail_messages',\n",
    "                    'usou_vmail',\n",
    "                    'voice_mail_plan',\n",
    "                    'international_plan']"
   ]
  },
  {
   "cell_type": "markdown",
   "metadata": {},
   "source": [
    "# 4.0 Feature Selection"
   ]
  },
  {
   "cell_type": "code",
   "execution_count": 60,
   "metadata": {},
   "outputs": [],
   "source": [
    "df4 = df3.copy()"
   ]
  },
  {
   "cell_type": "markdown",
   "metadata": {},
   "source": [
    "## 4.1 Data Preparation"
   ]
  },
  {
   "cell_type": "markdown",
   "metadata": {},
   "source": [
    "### 4.1.1 Rescaling"
   ]
  },
  {
   "cell_type": "code",
   "execution_count": 61,
   "metadata": {},
   "outputs": [],
   "source": [
    "rs = RobustScaler()\n",
    "mms = MinMaxScaler()\n",
    "\n",
    "df4['number_vmail_messages'] = rs.fit_transform(df4[['number_vmail_messages']].values)\n",
    "pickle.dump(rs, open('parameter/number_vmail_messages_scaler.pkl', 'wb'))\n",
    "\n",
    "col_scaller = ['account_length',\n",
    "           'total_day_minutes',\n",
    "           'total_day_minutes',\n",
    "           'total_day_calls',\n",
    "           'total_day_charge',\n",
    "           'total_eve_minutes',\n",
    "           'total_eve_calls',\n",
    "           'total_eve_charge',\n",
    "           'total_night_minutes',\n",
    "           'total_night_calls',\n",
    "           'total_night_charge',\n",
    "           'total_intl_minutes',\n",
    "           'total_intl_calls',\n",
    "           'total_intl_charge',\n",
    "           'number_customer_service_calls',\n",
    "           'total_minutes',\n",
    "           'total_calls',\n",
    "           'total_charge',\n",
    "           'tarifa_day',\n",
    "           'tarifa_eve',\n",
    "           'tarifa_night',\n",
    "           'tarifa_media',\n",
    "           'numero_de_planos']\n",
    "\n",
    "df4[col_scaller] = mms.fit_transform(df4[col_scaller].values)\n",
    "pickle.dump(mms, open('parameter/mms_scaller.pkl', 'wb'))"
   ]
  },
  {
   "cell_type": "markdown",
   "metadata": {},
   "source": [
    "### 4.1.2 Encoding"
   ]
  },
  {
   "cell_type": "code",
   "execution_count": 62,
   "metadata": {},
   "outputs": [],
   "source": [
    " #Label Encoding\n",
    "le = LabelEncoder()\n",
    "df4['state'] = le.fit_transform(df4['state'])\n",
    "pickle.dump(le, open('parameter/state_scaler.pkl', 'wb'))\n",
    "\n",
    "df4['area_code'] = le.fit_transform(df4['area_code'])\n",
    "pickle.dump(le, open('parameter/area_code_scaler.pkl', 'wb'))\n",
    "\n",
    "\n",
    "#Ordinal Encoding\n",
    "yes_no_dict = {'yes' : 1, 'no' : 0}\n",
    "df4['international_plan'] = df4['international_plan'].map(yes_no_dict)\n",
    "df4['voice_mail_plan'] = df4['voice_mail_plan'].map(yes_no_dict)\n",
    "df4['usou_vmail'] = df4['usou_vmail'].map(yes_no_dict)\n",
    "df4['ligou_customer_service'] = df4['ligou_customer_service'].map(yes_no_dict)\n",
    "df4['churn'] = df4['churn'].map(yes_no_dict)\n",
    "\n",
    "df4 = df4.drop('count_churn', axis=1)"
   ]
  },
  {
   "cell_type": "code",
   "execution_count": 63,
   "metadata": {},
   "outputs": [
    {
     "data": {
      "text/html": [
       "<div>\n",
       "<style scoped>\n",
       "    .dataframe tbody tr th:only-of-type {\n",
       "        vertical-align: middle;\n",
       "    }\n",
       "\n",
       "    .dataframe tbody tr th {\n",
       "        vertical-align: top;\n",
       "    }\n",
       "\n",
       "    .dataframe thead th {\n",
       "        text-align: right;\n",
       "    }\n",
       "</style>\n",
       "<table border=\"1\" class=\"dataframe\">\n",
       "  <thead>\n",
       "    <tr style=\"text-align: right;\">\n",
       "      <th></th>\n",
       "      <th>state</th>\n",
       "      <th>account_length</th>\n",
       "      <th>area_code</th>\n",
       "      <th>international_plan</th>\n",
       "      <th>voice_mail_plan</th>\n",
       "      <th>number_vmail_messages</th>\n",
       "      <th>total_day_minutes</th>\n",
       "      <th>total_day_calls</th>\n",
       "      <th>total_day_charge</th>\n",
       "      <th>total_eve_minutes</th>\n",
       "      <th>total_eve_calls</th>\n",
       "      <th>total_eve_charge</th>\n",
       "      <th>total_night_minutes</th>\n",
       "      <th>total_night_calls</th>\n",
       "      <th>total_night_charge</th>\n",
       "      <th>total_intl_minutes</th>\n",
       "      <th>total_intl_calls</th>\n",
       "      <th>total_intl_charge</th>\n",
       "      <th>number_customer_service_calls</th>\n",
       "      <th>churn</th>\n",
       "      <th>total_minutes</th>\n",
       "      <th>total_calls</th>\n",
       "      <th>total_charge</th>\n",
       "      <th>tarifa_day</th>\n",
       "      <th>tarifa_eve</th>\n",
       "      <th>tarifa_night</th>\n",
       "      <th>tarifa_media</th>\n",
       "      <th>numero_de_planos</th>\n",
       "      <th>usou_vmail</th>\n",
       "      <th>ligou_customer_service</th>\n",
       "    </tr>\n",
       "  </thead>\n",
       "  <tbody>\n",
       "    <tr>\n",
       "      <th>0</th>\n",
       "      <td>16</td>\n",
       "      <td>0.524793</td>\n",
       "      <td>1</td>\n",
       "      <td>0</td>\n",
       "      <td>1</td>\n",
       "      <td>1.470588</td>\n",
       "      <td>0.754196</td>\n",
       "      <td>0.666667</td>\n",
       "      <td>0.754183</td>\n",
       "      <td>0.542755</td>\n",
       "      <td>0.582353</td>\n",
       "      <td>0.542866</td>\n",
       "      <td>0.619494</td>\n",
       "      <td>0.520000</td>\n",
       "      <td>0.619584</td>\n",
       "      <td>0.500</td>\n",
       "      <td>0.15</td>\n",
       "      <td>0.500000</td>\n",
       "      <td>0.111111</td>\n",
       "      <td>0</td>\n",
       "      <td>0.717966</td>\n",
       "      <td>0.504505</td>\n",
       "      <td>0.728575</td>\n",
       "      <td>0.997059</td>\n",
       "      <td>0.997691</td>\n",
       "      <td>0.997401</td>\n",
       "      <td>0.622731</td>\n",
       "      <td>0.5</td>\n",
       "      <td>1</td>\n",
       "      <td>1</td>\n",
       "    </tr>\n",
       "    <tr>\n",
       "      <th>1</th>\n",
       "      <td>35</td>\n",
       "      <td>0.438017</td>\n",
       "      <td>1</td>\n",
       "      <td>0</td>\n",
       "      <td>1</td>\n",
       "      <td>1.529412</td>\n",
       "      <td>0.459744</td>\n",
       "      <td>0.745455</td>\n",
       "      <td>0.459672</td>\n",
       "      <td>0.537531</td>\n",
       "      <td>0.605882</td>\n",
       "      <td>0.537690</td>\n",
       "      <td>0.644051</td>\n",
       "      <td>0.588571</td>\n",
       "      <td>0.644344</td>\n",
       "      <td>0.685</td>\n",
       "      <td>0.15</td>\n",
       "      <td>0.685185</td>\n",
       "      <td>0.111111</td>\n",
       "      <td>0</td>\n",
       "      <td>0.558916</td>\n",
       "      <td>0.635135</td>\n",
       "      <td>0.489942</td>\n",
       "      <td>0.996920</td>\n",
       "      <td>0.997782</td>\n",
       "      <td>0.997711</td>\n",
       "      <td>0.431228</td>\n",
       "      <td>0.5</td>\n",
       "      <td>1</td>\n",
       "      <td>1</td>\n",
       "    </tr>\n",
       "    <tr>\n",
       "      <th>2</th>\n",
       "      <td>31</td>\n",
       "      <td>0.561983</td>\n",
       "      <td>1</td>\n",
       "      <td>0</td>\n",
       "      <td>0</td>\n",
       "      <td>0.000000</td>\n",
       "      <td>0.692461</td>\n",
       "      <td>0.690909</td>\n",
       "      <td>0.692436</td>\n",
       "      <td>0.333242</td>\n",
       "      <td>0.647059</td>\n",
       "      <td>0.333225</td>\n",
       "      <td>0.411646</td>\n",
       "      <td>0.594286</td>\n",
       "      <td>0.411930</td>\n",
       "      <td>0.610</td>\n",
       "      <td>0.25</td>\n",
       "      <td>0.609259</td>\n",
       "      <td>0.000000</td>\n",
       "      <td>0</td>\n",
       "      <td>0.418813</td>\n",
       "      <td>0.630631</td>\n",
       "      <td>0.537614</td>\n",
       "      <td>0.997041</td>\n",
       "      <td>0.997438</td>\n",
       "      <td>0.997946</td>\n",
       "      <td>0.762211</td>\n",
       "      <td>0.0</td>\n",
       "      <td>0</td>\n",
       "      <td>0</td>\n",
       "    </tr>\n",
       "    <tr>\n",
       "      <th>3</th>\n",
       "      <td>35</td>\n",
       "      <td>0.342975</td>\n",
       "      <td>0</td>\n",
       "      <td>1</td>\n",
       "      <td>0</td>\n",
       "      <td>0.000000</td>\n",
       "      <td>0.851778</td>\n",
       "      <td>0.430303</td>\n",
       "      <td>0.851740</td>\n",
       "      <td>0.170195</td>\n",
       "      <td>0.517647</td>\n",
       "      <td>0.170171</td>\n",
       "      <td>0.498481</td>\n",
       "      <td>0.508571</td>\n",
       "      <td>0.498593</td>\n",
       "      <td>0.330</td>\n",
       "      <td>0.35</td>\n",
       "      <td>0.329630</td>\n",
       "      <td>0.222222</td>\n",
       "      <td>0</td>\n",
       "      <td>0.470334</td>\n",
       "      <td>0.270270</td>\n",
       "      <td>0.620557</td>\n",
       "      <td>0.997032</td>\n",
       "      <td>0.997347</td>\n",
       "      <td>0.997481</td>\n",
       "      <td>0.833938</td>\n",
       "      <td>0.5</td>\n",
       "      <td>0</td>\n",
       "      <td>1</td>\n",
       "    </tr>\n",
       "    <tr>\n",
       "      <th>4</th>\n",
       "      <td>36</td>\n",
       "      <td>0.305785</td>\n",
       "      <td>1</td>\n",
       "      <td>1</td>\n",
       "      <td>0</td>\n",
       "      <td>0.000000</td>\n",
       "      <td>0.474253</td>\n",
       "      <td>0.684848</td>\n",
       "      <td>0.474230</td>\n",
       "      <td>0.407754</td>\n",
       "      <td>0.717647</td>\n",
       "      <td>0.407959</td>\n",
       "      <td>0.473165</td>\n",
       "      <td>0.691429</td>\n",
       "      <td>0.473270</td>\n",
       "      <td>0.505</td>\n",
       "      <td>0.15</td>\n",
       "      <td>0.505556</td>\n",
       "      <td>0.333333</td>\n",
       "      <td>0</td>\n",
       "      <td>0.376766</td>\n",
       "      <td>0.756757</td>\n",
       "      <td>0.404795</td>\n",
       "      <td>0.997028</td>\n",
       "      <td>0.997988</td>\n",
       "      <td>0.997478</td>\n",
       "      <td>0.549274</td>\n",
       "      <td>0.5</td>\n",
       "      <td>0</td>\n",
       "      <td>1</td>\n",
       "    </tr>\n",
       "  </tbody>\n",
       "</table>\n",
       "</div>"
      ],
      "text/plain": [
       "   state  account_length  area_code  international_plan  voice_mail_plan  number_vmail_messages  total_day_minutes  total_day_calls  total_day_charge  total_eve_minutes  total_eve_calls  total_eve_charge  total_night_minutes  total_night_calls  total_night_charge  total_intl_minutes  total_intl_calls  total_intl_charge  number_customer_service_calls  churn  total_minutes  total_calls  total_charge  tarifa_day  tarifa_eve  tarifa_night  tarifa_media  numero_de_planos  usou_vmail  ligou_customer_service\n",
       "0     16        0.524793          1                   0                1               1.470588           0.754196         0.666667          0.754183           0.542755         0.582353          0.542866             0.619494           0.520000            0.619584               0.500              0.15           0.500000                       0.111111      0       0.717966     0.504505      0.728575    0.997059    0.997691      0.997401      0.622731               0.5           1                       1\n",
       "1     35        0.438017          1                   0                1               1.529412           0.459744         0.745455          0.459672           0.537531         0.605882          0.537690             0.644051           0.588571            0.644344               0.685              0.15           0.685185                       0.111111      0       0.558916     0.635135      0.489942    0.996920    0.997782      0.997711      0.431228               0.5           1                       1\n",
       "2     31        0.561983          1                   0                0               0.000000           0.692461         0.690909          0.692436           0.333242         0.647059          0.333225             0.411646           0.594286            0.411930               0.610              0.25           0.609259                       0.000000      0       0.418813     0.630631      0.537614    0.997041    0.997438      0.997946      0.762211               0.0           0                       0\n",
       "3     35        0.342975          0                   1                0               0.000000           0.851778         0.430303          0.851740           0.170195         0.517647          0.170171             0.498481           0.508571            0.498593               0.330              0.35           0.329630                       0.222222      0       0.470334     0.270270      0.620557    0.997032    0.997347      0.997481      0.833938               0.5           0                       1\n",
       "4     36        0.305785          1                   1                0               0.000000           0.474253         0.684848          0.474230           0.407754         0.717647          0.407959             0.473165           0.691429            0.473270               0.505              0.15           0.505556                       0.333333      0       0.376766     0.756757      0.404795    0.997028    0.997988      0.997478      0.549274               0.5           0                       1"
      ]
     },
     "execution_count": 63,
     "metadata": {},
     "output_type": "execute_result"
    }
   ],
   "source": [
    "df4.head()"
   ]
  },
  {
   "cell_type": "markdown",
   "metadata": {},
   "source": [
    "## 4.2 Boruta as Feature Selector"
   ]
  },
  {
   "cell_type": "code",
   "execution_count": 64,
   "metadata": {},
   "outputs": [],
   "source": [
    "X = df4.drop(['churn'], axis = 1)\n",
    "Y = df4['churn']"
   ]
  },
  {
   "cell_type": "code",
   "execution_count": 65,
   "metadata": {},
   "outputs": [],
   "source": [
    "X_treino, X_teste, Y_treino, Y_teste = train_test_split(X, Y, test_size = 0.3,random_state=42)"
   ]
  },
  {
   "cell_type": "code",
   "execution_count": 67,
   "metadata": {},
   "outputs": [
    {
     "name": "stdout",
     "output_type": "stream",
     "text": [
      "Iteration: \t1 / 100\n",
      "Confirmed: \t0\n",
      "Tentative: \t29\n",
      "Rejected: \t0\n",
      "Iteration: \t2 / 100\n",
      "Confirmed: \t0\n",
      "Tentative: \t29\n",
      "Rejected: \t0\n",
      "Iteration: \t3 / 100\n",
      "Confirmed: \t0\n",
      "Tentative: \t29\n",
      "Rejected: \t0\n",
      "Iteration: \t4 / 100\n",
      "Confirmed: \t0\n",
      "Tentative: \t29\n",
      "Rejected: \t0\n",
      "Iteration: \t5 / 100\n",
      "Confirmed: \t0\n",
      "Tentative: \t29\n",
      "Rejected: \t0\n",
      "Iteration: \t6 / 100\n",
      "Confirmed: \t0\n",
      "Tentative: \t29\n",
      "Rejected: \t0\n",
      "Iteration: \t7 / 100\n",
      "Confirmed: \t0\n",
      "Tentative: \t29\n",
      "Rejected: \t0\n",
      "Iteration: \t8 / 100\n",
      "Confirmed: \t9\n",
      "Tentative: \t0\n",
      "Rejected: \t20\n",
      "\n",
      "\n",
      "BorutaPy finished running.\n",
      "\n",
      "Iteration: \t9 / 100\n",
      "Confirmed: \t9\n",
      "Tentative: \t0\n",
      "Rejected: \t20\n"
     ]
    }
   ],
   "source": [
    "#x_treino_n = X_treino.values\n",
    "#y_treino_n = Y_treino.values.ravel()\n",
    "\n",
    "## define RandomForestRegressor\n",
    "#rf = RandomForestRegressor( n_jobs = -1 )\n",
    "\n",
    "\n",
    "## define Boruta\n",
    "#boruta = BorutaPy( rf, n_estimators = 'auto', verbose = 2, random_state = 42 ).fit(x_treino_n, y_treino_n)"
   ]
  },
  {
   "cell_type": "markdown",
   "metadata": {},
   "source": [
    "### 4.2.1 Best Features from Boruta"
   ]
  },
  {
   "cell_type": "code",
   "execution_count": 68,
   "metadata": {},
   "outputs": [],
   "source": [
    "#cols_selected = boruta.support_.tolist()\n",
    "\n",
    "## best features\n",
    "#x_treino_fs = X_treino\n",
    "#cols_selected_boruta = x_treino_fs.iloc[:, cols_selected].columns.to_list()\n",
    "\n",
    "##not selected Boruta\n",
    "#cols_not_selected_boruta = list (np.setdiff1d(x_treino_fs.columns, cols_selected_boruta))"
   ]
  },
  {
   "cell_type": "code",
   "execution_count": 69,
   "metadata": {},
   "outputs": [
    {
     "data": {
      "text/plain": [
       "['international_plan',\n",
       " 'voice_mail_plan',\n",
       " 'number_vmail_messages',\n",
       " 'total_intl_minutes',\n",
       " 'total_intl_calls',\n",
       " 'total_intl_charge',\n",
       " 'number_customer_service_calls',\n",
       " 'total_charge',\n",
       " 'usou_vmail']"
      ]
     },
     "execution_count": 69,
     "metadata": {},
     "output_type": "execute_result"
    }
   ],
   "source": [
    "#cols_selected_boruta"
   ]
  },
  {
   "cell_type": "code",
   "execution_count": 70,
   "metadata": {},
   "outputs": [],
   "source": [
    "cols_selected_boruta = ['international_plan',\n",
    " 'voice_mail_plan',\n",
    " 'number_vmail_messages',\n",
    " 'total_intl_minutes',\n",
    " 'total_intl_calls',\n",
    " 'total_intl_charge',\n",
    " 'number_customer_service_calls',\n",
    " 'total_charge',\n",
    " 'usou_vmail']"
   ]
  },
  {
   "cell_type": "code",
   "execution_count": 71,
   "metadata": {},
   "outputs": [],
   "source": [
    "## Comparando as colunas selecionadas pelo método Boruta e escolhidas na EDA vamos decidir pelo seguinte conjunto de colunas\n",
    "cols_final = ['international_plan',\n",
    "              'voice_mail_plan',\n",
    "              'number_vmail_messages',\n",
    "              'total_calls',\n",
    "              'total_charge',\n",
    "              'total_intl_calls',\n",
    "              'total_intl_charge',\n",
    "              'number_customer_service_calls',\n",
    "              'usou_vmail']"
   ]
  },
  {
   "cell_type": "code",
   "execution_count": 72,
   "metadata": {},
   "outputs": [],
   "source": [
    "cols_final_full = cols_final.copy()\n",
    "cols_final_full.extend(['churn'])"
   ]
  },
  {
   "cell_type": "markdown",
   "metadata": {},
   "source": [
    "# 5.0 MACHINE LEARNING MODELING"
   ]
  },
  {
   "cell_type": "code",
   "execution_count": 73,
   "metadata": {},
   "outputs": [],
   "source": [
    "df5 = df4.copy()"
   ]
  },
  {
   "cell_type": "code",
   "execution_count": 74,
   "metadata": {},
   "outputs": [],
   "source": [
    "X_treino = X_treino[cols_final]\n",
    "X_teste = X_teste[cols_final]"
   ]
  },
  {
   "cell_type": "markdown",
   "metadata": {},
   "source": [
    "## 5.1 Regressão Logística"
   ]
  },
  {
   "cell_type": "code",
   "execution_count": 77,
   "metadata": {},
   "outputs": [
    {
     "name": "stdout",
     "output_type": "stream",
     "text": [
      "Coefficient: \n",
      " [[ 2.00131468 -0.82788358  0.38693606  0.04097238  4.88556366 -1.20913569\n",
      "   1.32236917  4.13015681 -0.82788358]]\n",
      "Intercept: \n",
      " [-5.76388078]\n"
     ]
    }
   ],
   "source": [
    "# Criando o objeto logistic regression \n",
    "modelo = LogisticRegression()\n",
    "\n",
    "# Treinando o modelo com dados de treino e checando o score\n",
    "modelo.fit(X_treino, Y_treino)\n",
    "modelo.score(X_treino, Y_treino)\n",
    "\n",
    "# Previsões\n",
    "previsoes_logisticregression = modelo.predict(X_teste)"
   ]
  },
  {
   "cell_type": "code",
   "execution_count": 78,
   "metadata": {},
   "outputs": [
    {
     "name": "stdout",
     "output_type": "stream",
     "text": [
      "[[1263   30]\n",
      " [ 156   51]]\n",
      "              precision    recall  f1-score   support\n",
      "\n",
      "           0       0.89      0.98      0.93      1293\n",
      "           1       0.63      0.25      0.35       207\n",
      "\n",
      "    accuracy                           0.88      1500\n",
      "   macro avg       0.76      0.61      0.64      1500\n",
      "weighted avg       0.85      0.88      0.85      1500\n",
      "\n"
     ]
    },
    {
     "data": {
      "text/plain": [
       "0.876"
      ]
     },
     "execution_count": 78,
     "metadata": {},
     "output_type": "execute_result"
    }
   ],
   "source": [
    "cm = confusion_matrix(Y_teste, previsoes_logisticregression)\n",
    "report = classification_report(Y_teste, previsoes_logisticregression)\n",
    "print(cm)\n",
    "print(report)\n",
    "accuracy_score(Y_teste, previsoes_logisticregression)"
   ]
  },
  {
   "cell_type": "markdown",
   "metadata": {},
   "source": [
    "## 5.2 Random Forest Classifier"
   ]
  },
  {
   "cell_type": "code",
   "execution_count": 82,
   "metadata": {},
   "outputs": [],
   "source": [
    "modelo = RandomForestClassifier(n_estimators=100,criterion = 'entropy', random_state = 42, n_jobs=-1)\n",
    "\n",
    "# Treinando o modelo com dados de treino \n",
    "modelo.fit(X_treino, Y_treino)\n",
    "\n",
    "# Previsões\n",
    "previsoes_randomforest = modelo.predict(X_teste)"
   ]
  },
  {
   "cell_type": "code",
   "execution_count": 83,
   "metadata": {},
   "outputs": [
    {
     "name": "stdout",
     "output_type": "stream",
     "text": [
      "[[1288    5]\n",
      " [  31  176]]\n",
      "              precision    recall  f1-score   support\n",
      "\n",
      "           0       0.98      1.00      0.99      1293\n",
      "           1       0.97      0.85      0.91       207\n",
      "\n",
      "    accuracy                           0.98      1500\n",
      "   macro avg       0.97      0.92      0.95      1500\n",
      "weighted avg       0.98      0.98      0.98      1500\n",
      "\n"
     ]
    },
    {
     "data": {
      "text/plain": [
       "0.976"
      ]
     },
     "execution_count": 83,
     "metadata": {},
     "output_type": "execute_result"
    }
   ],
   "source": [
    "cm = confusion_matrix(Y_teste, previsoes_randomforest)\n",
    "report = classification_report(Y_teste, previsoes_randomforest)\n",
    "print(cm)\n",
    "print(report)\n",
    "accuracy_score(Y_teste, previsoes_randomforest)"
   ]
  },
  {
   "cell_type": "markdown",
   "metadata": {},
   "source": [
    "## 5.3 K-Nearest Neighbors"
   ]
  },
  {
   "cell_type": "code",
   "execution_count": 86,
   "metadata": {},
   "outputs": [],
   "source": [
    "# Criando o objeto de classificação KNeighbors  \n",
    "KNeighborsClassifier() \n",
    "\n",
    "# Treinando o modelo com dados de treino \n",
    "modelo.fit(X_treino, Y_treino)\n",
    "\n",
    "# Previsões\n",
    "previsoes_knn = modelo.predict(X_teste)"
   ]
  },
  {
   "cell_type": "code",
   "execution_count": 87,
   "metadata": {},
   "outputs": [
    {
     "name": "stdout",
     "output_type": "stream",
     "text": [
      "[[1288    5]\n",
      " [  31  176]]\n",
      "              precision    recall  f1-score   support\n",
      "\n",
      "           0       0.98      1.00      0.99      1293\n",
      "           1       0.97      0.85      0.91       207\n",
      "\n",
      "    accuracy                           0.98      1500\n",
      "   macro avg       0.97      0.92      0.95      1500\n",
      "weighted avg       0.98      0.98      0.98      1500\n",
      "\n"
     ]
    },
    {
     "data": {
      "text/plain": [
       "0.976"
      ]
     },
     "execution_count": 87,
     "metadata": {},
     "output_type": "execute_result"
    }
   ],
   "source": [
    "cm = confusion_matrix(Y_teste, previsoes_knn)\n",
    "report = classification_report(Y_teste, previsoes_knn)\n",
    "print(cm)\n",
    "print(report)\n",
    "accuracy_score(Y_teste, previsoes_knn)"
   ]
  },
  {
   "cell_type": "markdown",
   "metadata": {},
   "source": [
    "## 5.4 Naive Bayes"
   ]
  },
  {
   "cell_type": "code",
   "execution_count": 90,
   "metadata": {},
   "outputs": [],
   "source": [
    "# Criando o objeto GaussianNB\n",
    "modelo = GaussianNB() \n",
    "\n",
    "# Treinando o modelo com dados de treino\n",
    "modelo.fit(X_treino, Y_treino)\n",
    "\n",
    "# Previsões\n",
    "previsoes_naivebayes = modelo.predict(X_teste)"
   ]
  },
  {
   "cell_type": "code",
   "execution_count": 91,
   "metadata": {},
   "outputs": [
    {
     "name": "stdout",
     "output_type": "stream",
     "text": [
      "[[1196   97]\n",
      " [ 109   98]]\n",
      "              precision    recall  f1-score   support\n",
      "\n",
      "           0       0.92      0.92      0.92      1293\n",
      "           1       0.50      0.47      0.49       207\n",
      "\n",
      "    accuracy                           0.86      1500\n",
      "   macro avg       0.71      0.70      0.70      1500\n",
      "weighted avg       0.86      0.86      0.86      1500\n",
      "\n"
     ]
    },
    {
     "data": {
      "text/plain": [
       "0.8626666666666667"
      ]
     },
     "execution_count": 91,
     "metadata": {},
     "output_type": "execute_result"
    }
   ],
   "source": [
    "cm = confusion_matrix(Y_teste, previsoes_naivebayes)\n",
    "report = classification_report(Y_teste, previsoes_naivebayes)\n",
    "print(cm)\n",
    "print(report)\n",
    "accuracy_score(Y_teste, previsoes_naivebayes)"
   ]
  },
  {
   "cell_type": "markdown",
   "metadata": {},
   "source": [
    "## 5.5 XGBoost Classifier"
   ]
  },
  {
   "cell_type": "code",
   "execution_count": 94,
   "metadata": {},
   "outputs": [
    {
     "name": "stdout",
     "output_type": "stream",
     "text": [
      "[21:25:03] WARNING: C:/Users/Administrator/workspace/xgboost-win64_release_1.5.1/src/learner.cc:1115: Starting in XGBoost 1.3.0, the default evaluation metric used with the objective 'binary:logistic' was changed from 'error' to 'logloss'. Explicitly set eval_metric if you'd like to restore the old behavior.\n"
     ]
    }
   ],
   "source": [
    "# Criando o objeto XGBClassifier\n",
    "modelo = XGBClassifier()\n",
    "\n",
    "# Treinando o modelo com dados de treino\n",
    "modelo.fit(X_treino, Y_treino)\n",
    "\n",
    "# Previsões\n",
    "previsoes_XGB = modelo.predict(X_teste)"
   ]
  },
  {
   "cell_type": "code",
   "execution_count": 95,
   "metadata": {},
   "outputs": [
    {
     "name": "stdout",
     "output_type": "stream",
     "text": [
      "[[1289    4]\n",
      " [  30  177]]\n",
      "              precision    recall  f1-score   support\n",
      "\n",
      "           0       0.98      1.00      0.99      1293\n",
      "           1       0.98      0.86      0.91       207\n",
      "\n",
      "    accuracy                           0.98      1500\n",
      "   macro avg       0.98      0.93      0.95      1500\n",
      "weighted avg       0.98      0.98      0.98      1500\n",
      "\n"
     ]
    },
    {
     "data": {
      "text/plain": [
       "0.9773333333333334"
      ]
     },
     "execution_count": 95,
     "metadata": {},
     "output_type": "execute_result"
    }
   ],
   "source": [
    "cm = confusion_matrix(Y_teste, previsoes_XGB)\n",
    "report = classification_report(Y_teste, previsoes_XGB)\n",
    "print(cm)\n",
    "print(report)\n",
    "accuracy_score(Y_teste, previsoes_XGB)"
   ]
  },
  {
   "cell_type": "code",
   "execution_count": null,
   "metadata": {},
   "outputs": [],
   "source": []
  },
  {
   "cell_type": "code",
   "execution_count": null,
   "metadata": {},
   "outputs": [],
   "source": []
  },
  {
   "cell_type": "code",
   "execution_count": null,
   "metadata": {},
   "outputs": [],
   "source": []
  },
  {
   "cell_type": "code",
   "execution_count": null,
   "metadata": {},
   "outputs": [],
   "source": []
  },
  {
   "cell_type": "code",
   "execution_count": null,
   "metadata": {},
   "outputs": [],
   "source": []
  },
  {
   "cell_type": "code",
   "execution_count": null,
   "metadata": {},
   "outputs": [],
   "source": []
  },
  {
   "cell_type": "code",
   "execution_count": null,
   "metadata": {},
   "outputs": [],
   "source": []
  },
  {
   "cell_type": "code",
   "execution_count": null,
   "metadata": {},
   "outputs": [],
   "source": []
  },
  {
   "cell_type": "code",
   "execution_count": null,
   "metadata": {},
   "outputs": [],
   "source": []
  },
  {
   "cell_type": "code",
   "execution_count": null,
   "metadata": {},
   "outputs": [],
   "source": []
  },
  {
   "cell_type": "code",
   "execution_count": null,
   "metadata": {},
   "outputs": [],
   "source": []
  },
  {
   "cell_type": "code",
   "execution_count": null,
   "metadata": {},
   "outputs": [],
   "source": []
  },
  {
   "cell_type": "code",
   "execution_count": null,
   "metadata": {},
   "outputs": [],
   "source": []
  },
  {
   "cell_type": "code",
   "execution_count": null,
   "metadata": {},
   "outputs": [],
   "source": []
  },
  {
   "cell_type": "code",
   "execution_count": null,
   "metadata": {},
   "outputs": [],
   "source": []
  },
  {
   "cell_type": "code",
   "execution_count": null,
   "metadata": {},
   "outputs": [],
   "source": []
  },
  {
   "cell_type": "code",
   "execution_count": null,
   "metadata": {},
   "outputs": [],
   "source": []
  },
  {
   "cell_type": "code",
   "execution_count": null,
   "metadata": {},
   "outputs": [],
   "source": []
  },
  {
   "cell_type": "code",
   "execution_count": null,
   "metadata": {},
   "outputs": [],
   "source": []
  },
  {
   "cell_type": "code",
   "execution_count": null,
   "metadata": {},
   "outputs": [],
   "source": []
  },
  {
   "cell_type": "code",
   "execution_count": null,
   "metadata": {},
   "outputs": [],
   "source": []
  },
  {
   "cell_type": "code",
   "execution_count": null,
   "metadata": {},
   "outputs": [],
   "source": []
  },
  {
   "cell_type": "code",
   "execution_count": null,
   "metadata": {},
   "outputs": [],
   "source": []
  },
  {
   "cell_type": "code",
   "execution_count": null,
   "metadata": {},
   "outputs": [],
   "source": []
  },
  {
   "cell_type": "code",
   "execution_count": null,
   "metadata": {},
   "outputs": [],
   "source": []
  },
  {
   "cell_type": "code",
   "execution_count": null,
   "metadata": {},
   "outputs": [],
   "source": []
  },
  {
   "cell_type": "code",
   "execution_count": null,
   "metadata": {},
   "outputs": [],
   "source": []
  },
  {
   "cell_type": "code",
   "execution_count": null,
   "metadata": {},
   "outputs": [],
   "source": []
  },
  {
   "cell_type": "code",
   "execution_count": null,
   "metadata": {},
   "outputs": [],
   "source": []
  },
  {
   "cell_type": "code",
   "execution_count": null,
   "metadata": {},
   "outputs": [],
   "source": []
  },
  {
   "cell_type": "code",
   "execution_count": null,
   "metadata": {},
   "outputs": [],
   "source": []
  },
  {
   "cell_type": "code",
   "execution_count": null,
   "metadata": {},
   "outputs": [],
   "source": []
  },
  {
   "cell_type": "code",
   "execution_count": null,
   "metadata": {},
   "outputs": [],
   "source": []
  },
  {
   "cell_type": "code",
   "execution_count": null,
   "metadata": {},
   "outputs": [],
   "source": []
  },
  {
   "cell_type": "code",
   "execution_count": null,
   "metadata": {},
   "outputs": [],
   "source": []
  },
  {
   "cell_type": "code",
   "execution_count": null,
   "metadata": {},
   "outputs": [],
   "source": []
  },
  {
   "cell_type": "code",
   "execution_count": null,
   "metadata": {},
   "outputs": [],
   "source": []
  },
  {
   "cell_type": "code",
   "execution_count": null,
   "metadata": {},
   "outputs": [],
   "source": []
  },
  {
   "cell_type": "code",
   "execution_count": null,
   "metadata": {},
   "outputs": [],
   "source": []
  },
  {
   "cell_type": "code",
   "execution_count": null,
   "metadata": {},
   "outputs": [],
   "source": []
  },
  {
   "cell_type": "code",
   "execution_count": null,
   "metadata": {},
   "outputs": [],
   "source": []
  },
  {
   "cell_type": "code",
   "execution_count": null,
   "metadata": {},
   "outputs": [],
   "source": []
  },
  {
   "cell_type": "code",
   "execution_count": null,
   "metadata": {},
   "outputs": [],
   "source": []
  },
  {
   "cell_type": "code",
   "execution_count": null,
   "metadata": {},
   "outputs": [],
   "source": []
  },
  {
   "cell_type": "code",
   "execution_count": null,
   "metadata": {},
   "outputs": [],
   "source": []
  },
  {
   "cell_type": "code",
   "execution_count": null,
   "metadata": {},
   "outputs": [],
   "source": []
  },
  {
   "cell_type": "code",
   "execution_count": null,
   "metadata": {},
   "outputs": [],
   "source": []
  },
  {
   "cell_type": "code",
   "execution_count": null,
   "metadata": {},
   "outputs": [],
   "source": []
  },
  {
   "cell_type": "code",
   "execution_count": null,
   "metadata": {},
   "outputs": [],
   "source": []
  }
 ],
 "metadata": {
  "kernelspec": {
   "display_name": "Python 3 (ipykernel)",
   "language": "python",
   "name": "python3"
  },
  "language_info": {
   "codemirror_mode": {
    "name": "ipython",
    "version": 3
   },
   "file_extension": ".py",
   "mimetype": "text/x-python",
   "name": "python",
   "nbconvert_exporter": "python",
   "pygments_lexer": "ipython3",
   "version": "3.9.7"
  }
 },
 "nbformat": 4,
 "nbformat_minor": 2
}
