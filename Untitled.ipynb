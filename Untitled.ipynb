{
 "cells": [
  {
   "cell_type": "code",
   "execution_count": 29,
   "metadata": {},
   "outputs": [],
   "source": [
    "import pickle\n",
    "import numpy as np\n",
    "import pandas as pd\n",
    "import seaborn as sns\n",
    "import matplotlib.pyplot as plt\n",
    "import warnings\n",
    "\n",
    "from IPython.core.display  import HTML\n",
    "from IPython.display       import Image"
   ]
  },
  {
   "cell_type": "code",
   "execution_count": 2,
   "metadata": {},
   "outputs": [
    {
     "name": "stdout",
     "output_type": "stream",
     "text": [
      "Populating the interactive namespace from numpy and matplotlib\n"
     ]
    },
    {
     "data": {
      "text/html": [
       "<style>.container { width:100% !important; }</style>"
      ],
      "text/plain": [
       "<IPython.core.display.HTML object>"
      ]
     },
     "metadata": {},
     "output_type": "display_data"
    }
   ],
   "source": [
    "def jupyter_settings():\n",
    "    %matplotlib inline\n",
    "    %pylab inline\n",
    "    \n",
    "    plt.style.use('bmh')\n",
    "    plt.rcParams['figure.figsize'] = [25, 12]\n",
    "    plt.rcParams['font.size'] = 24\n",
    "    \n",
    "    display( HTML('<style>.container { width:100% !important; }</style>'))\n",
    "    pd.options.display.max_columns = None\n",
    "    pd.options.display.max_rows = None\n",
    "    pd.set_option('display.expand_frame_repr', False)\n",
    "     \n",
    "    sns.set()\n",
    "    \n",
    "jupyter_settings()"
   ]
  },
  {
   "cell_type": "code",
   "execution_count": 3,
   "metadata": {},
   "outputs": [],
   "source": [
    "df_raw = pd.read_csv('data/telecom_treino.csv')\n",
    "teste = pd.read_csv('data/telecom_teste.csv') "
   ]
  },
  {
   "cell_type": "code",
   "execution_count": 4,
   "metadata": {},
   "outputs": [
    {
     "data": {
      "text/html": [
       "<div>\n",
       "<style scoped>\n",
       "    .dataframe tbody tr th:only-of-type {\n",
       "        vertical-align: middle;\n",
       "    }\n",
       "\n",
       "    .dataframe tbody tr th {\n",
       "        vertical-align: top;\n",
       "    }\n",
       "\n",
       "    .dataframe thead th {\n",
       "        text-align: right;\n",
       "    }\n",
       "</style>\n",
       "<table border=\"1\" class=\"dataframe\">\n",
       "  <thead>\n",
       "    <tr style=\"text-align: right;\">\n",
       "      <th></th>\n",
       "      <th>Unnamed: 0</th>\n",
       "      <th>state</th>\n",
       "      <th>account_length</th>\n",
       "      <th>area_code</th>\n",
       "      <th>international_plan</th>\n",
       "      <th>voice_mail_plan</th>\n",
       "      <th>number_vmail_messages</th>\n",
       "      <th>total_day_minutes</th>\n",
       "      <th>total_day_calls</th>\n",
       "      <th>total_day_charge</th>\n",
       "      <th>total_eve_minutes</th>\n",
       "      <th>total_eve_calls</th>\n",
       "      <th>total_eve_charge</th>\n",
       "      <th>total_night_minutes</th>\n",
       "      <th>total_night_calls</th>\n",
       "      <th>total_night_charge</th>\n",
       "      <th>total_intl_minutes</th>\n",
       "      <th>total_intl_calls</th>\n",
       "      <th>total_intl_charge</th>\n",
       "      <th>number_customer_service_calls</th>\n",
       "      <th>churn</th>\n",
       "    </tr>\n",
       "  </thead>\n",
       "  <tbody>\n",
       "    <tr>\n",
       "      <th>0</th>\n",
       "      <td>1</td>\n",
       "      <td>KS</td>\n",
       "      <td>128</td>\n",
       "      <td>area_code_415</td>\n",
       "      <td>no</td>\n",
       "      <td>yes</td>\n",
       "      <td>25</td>\n",
       "      <td>265.1</td>\n",
       "      <td>110</td>\n",
       "      <td>45.07</td>\n",
       "      <td>197.4</td>\n",
       "      <td>99</td>\n",
       "      <td>16.78</td>\n",
       "      <td>244.7</td>\n",
       "      <td>91</td>\n",
       "      <td>11.01</td>\n",
       "      <td>10.0</td>\n",
       "      <td>3</td>\n",
       "      <td>2.70</td>\n",
       "      <td>1</td>\n",
       "      <td>no</td>\n",
       "    </tr>\n",
       "    <tr>\n",
       "      <th>1</th>\n",
       "      <td>2</td>\n",
       "      <td>OH</td>\n",
       "      <td>107</td>\n",
       "      <td>area_code_415</td>\n",
       "      <td>no</td>\n",
       "      <td>yes</td>\n",
       "      <td>26</td>\n",
       "      <td>161.6</td>\n",
       "      <td>123</td>\n",
       "      <td>27.47</td>\n",
       "      <td>195.5</td>\n",
       "      <td>103</td>\n",
       "      <td>16.62</td>\n",
       "      <td>254.4</td>\n",
       "      <td>103</td>\n",
       "      <td>11.45</td>\n",
       "      <td>13.7</td>\n",
       "      <td>3</td>\n",
       "      <td>3.70</td>\n",
       "      <td>1</td>\n",
       "      <td>no</td>\n",
       "    </tr>\n",
       "    <tr>\n",
       "      <th>2</th>\n",
       "      <td>3</td>\n",
       "      <td>NJ</td>\n",
       "      <td>137</td>\n",
       "      <td>area_code_415</td>\n",
       "      <td>no</td>\n",
       "      <td>no</td>\n",
       "      <td>0</td>\n",
       "      <td>243.4</td>\n",
       "      <td>114</td>\n",
       "      <td>41.38</td>\n",
       "      <td>121.2</td>\n",
       "      <td>110</td>\n",
       "      <td>10.30</td>\n",
       "      <td>162.6</td>\n",
       "      <td>104</td>\n",
       "      <td>7.32</td>\n",
       "      <td>12.2</td>\n",
       "      <td>5</td>\n",
       "      <td>3.29</td>\n",
       "      <td>0</td>\n",
       "      <td>no</td>\n",
       "    </tr>\n",
       "    <tr>\n",
       "      <th>3</th>\n",
       "      <td>4</td>\n",
       "      <td>OH</td>\n",
       "      <td>84</td>\n",
       "      <td>area_code_408</td>\n",
       "      <td>yes</td>\n",
       "      <td>no</td>\n",
       "      <td>0</td>\n",
       "      <td>299.4</td>\n",
       "      <td>71</td>\n",
       "      <td>50.90</td>\n",
       "      <td>61.9</td>\n",
       "      <td>88</td>\n",
       "      <td>5.26</td>\n",
       "      <td>196.9</td>\n",
       "      <td>89</td>\n",
       "      <td>8.86</td>\n",
       "      <td>6.6</td>\n",
       "      <td>7</td>\n",
       "      <td>1.78</td>\n",
       "      <td>2</td>\n",
       "      <td>no</td>\n",
       "    </tr>\n",
       "    <tr>\n",
       "      <th>4</th>\n",
       "      <td>5</td>\n",
       "      <td>OK</td>\n",
       "      <td>75</td>\n",
       "      <td>area_code_415</td>\n",
       "      <td>yes</td>\n",
       "      <td>no</td>\n",
       "      <td>0</td>\n",
       "      <td>166.7</td>\n",
       "      <td>113</td>\n",
       "      <td>28.34</td>\n",
       "      <td>148.3</td>\n",
       "      <td>122</td>\n",
       "      <td>12.61</td>\n",
       "      <td>186.9</td>\n",
       "      <td>121</td>\n",
       "      <td>8.41</td>\n",
       "      <td>10.1</td>\n",
       "      <td>3</td>\n",
       "      <td>2.73</td>\n",
       "      <td>3</td>\n",
       "      <td>no</td>\n",
       "    </tr>\n",
       "  </tbody>\n",
       "</table>\n",
       "</div>"
      ],
      "text/plain": [
       "   Unnamed: 0 state  account_length      area_code international_plan voice_mail_plan  number_vmail_messages  total_day_minutes  total_day_calls  total_day_charge  total_eve_minutes  total_eve_calls  total_eve_charge  total_night_minutes  total_night_calls  total_night_charge  total_intl_minutes  total_intl_calls  total_intl_charge  number_customer_service_calls churn\n",
       "0           1    KS             128  area_code_415                 no             yes                     25              265.1              110             45.07              197.4               99             16.78                244.7                 91               11.01                10.0                 3               2.70                              1    no\n",
       "1           2    OH             107  area_code_415                 no             yes                     26              161.6              123             27.47              195.5              103             16.62                254.4                103               11.45                13.7                 3               3.70                              1    no\n",
       "2           3    NJ             137  area_code_415                 no              no                      0              243.4              114             41.38              121.2              110             10.30                162.6                104                7.32                12.2                 5               3.29                              0    no\n",
       "3           4    OH              84  area_code_408                yes              no                      0              299.4               71             50.90               61.9               88              5.26                196.9                 89                8.86                 6.6                 7               1.78                              2    no\n",
       "4           5    OK              75  area_code_415                yes              no                      0              166.7              113             28.34              148.3              122             12.61                186.9                121                8.41                10.1                 3               2.73                              3    no"
      ]
     },
     "execution_count": 4,
     "metadata": {},
     "output_type": "execute_result"
    }
   ],
   "source": [
    "df_raw.head()"
   ]
  },
  {
   "cell_type": "code",
   "execution_count": 5,
   "metadata": {},
   "outputs": [
    {
     "data": {
      "text/html": [
       "<div>\n",
       "<style scoped>\n",
       "    .dataframe tbody tr th:only-of-type {\n",
       "        vertical-align: middle;\n",
       "    }\n",
       "\n",
       "    .dataframe tbody tr th {\n",
       "        vertical-align: top;\n",
       "    }\n",
       "\n",
       "    .dataframe thead th {\n",
       "        text-align: right;\n",
       "    }\n",
       "</style>\n",
       "<table border=\"1\" class=\"dataframe\">\n",
       "  <thead>\n",
       "    <tr style=\"text-align: right;\">\n",
       "      <th></th>\n",
       "      <th>Unnamed: 0</th>\n",
       "      <th>state</th>\n",
       "      <th>account_length</th>\n",
       "      <th>area_code</th>\n",
       "      <th>international_plan</th>\n",
       "      <th>voice_mail_plan</th>\n",
       "      <th>number_vmail_messages</th>\n",
       "      <th>total_day_minutes</th>\n",
       "      <th>total_day_calls</th>\n",
       "      <th>total_day_charge</th>\n",
       "      <th>total_eve_minutes</th>\n",
       "      <th>total_eve_calls</th>\n",
       "      <th>total_eve_charge</th>\n",
       "      <th>total_night_minutes</th>\n",
       "      <th>total_night_calls</th>\n",
       "      <th>total_night_charge</th>\n",
       "      <th>total_intl_minutes</th>\n",
       "      <th>total_intl_calls</th>\n",
       "      <th>total_intl_charge</th>\n",
       "      <th>number_customer_service_calls</th>\n",
       "      <th>churn</th>\n",
       "    </tr>\n",
       "  </thead>\n",
       "  <tbody>\n",
       "    <tr>\n",
       "      <th>0</th>\n",
       "      <td>1</td>\n",
       "      <td>HI</td>\n",
       "      <td>101</td>\n",
       "      <td>area_code_510</td>\n",
       "      <td>no</td>\n",
       "      <td>no</td>\n",
       "      <td>0</td>\n",
       "      <td>70.9</td>\n",
       "      <td>123</td>\n",
       "      <td>12.05</td>\n",
       "      <td>211.9</td>\n",
       "      <td>73</td>\n",
       "      <td>18.01</td>\n",
       "      <td>236.0</td>\n",
       "      <td>73</td>\n",
       "      <td>10.62</td>\n",
       "      <td>10.6</td>\n",
       "      <td>3</td>\n",
       "      <td>2.86</td>\n",
       "      <td>3</td>\n",
       "      <td>no</td>\n",
       "    </tr>\n",
       "    <tr>\n",
       "      <th>1</th>\n",
       "      <td>2</td>\n",
       "      <td>MT</td>\n",
       "      <td>137</td>\n",
       "      <td>area_code_510</td>\n",
       "      <td>no</td>\n",
       "      <td>no</td>\n",
       "      <td>0</td>\n",
       "      <td>223.6</td>\n",
       "      <td>86</td>\n",
       "      <td>38.01</td>\n",
       "      <td>244.8</td>\n",
       "      <td>139</td>\n",
       "      <td>20.81</td>\n",
       "      <td>94.2</td>\n",
       "      <td>81</td>\n",
       "      <td>4.24</td>\n",
       "      <td>9.5</td>\n",
       "      <td>7</td>\n",
       "      <td>2.57</td>\n",
       "      <td>0</td>\n",
       "      <td>no</td>\n",
       "    </tr>\n",
       "    <tr>\n",
       "      <th>2</th>\n",
       "      <td>3</td>\n",
       "      <td>OH</td>\n",
       "      <td>103</td>\n",
       "      <td>area_code_408</td>\n",
       "      <td>no</td>\n",
       "      <td>yes</td>\n",
       "      <td>29</td>\n",
       "      <td>294.7</td>\n",
       "      <td>95</td>\n",
       "      <td>50.10</td>\n",
       "      <td>237.3</td>\n",
       "      <td>105</td>\n",
       "      <td>20.17</td>\n",
       "      <td>300.3</td>\n",
       "      <td>127</td>\n",
       "      <td>13.51</td>\n",
       "      <td>13.7</td>\n",
       "      <td>6</td>\n",
       "      <td>3.70</td>\n",
       "      <td>1</td>\n",
       "      <td>no</td>\n",
       "    </tr>\n",
       "    <tr>\n",
       "      <th>3</th>\n",
       "      <td>4</td>\n",
       "      <td>NM</td>\n",
       "      <td>99</td>\n",
       "      <td>area_code_415</td>\n",
       "      <td>no</td>\n",
       "      <td>no</td>\n",
       "      <td>0</td>\n",
       "      <td>216.8</td>\n",
       "      <td>123</td>\n",
       "      <td>36.86</td>\n",
       "      <td>126.4</td>\n",
       "      <td>88</td>\n",
       "      <td>10.74</td>\n",
       "      <td>220.6</td>\n",
       "      <td>82</td>\n",
       "      <td>9.93</td>\n",
       "      <td>15.7</td>\n",
       "      <td>2</td>\n",
       "      <td>4.24</td>\n",
       "      <td>1</td>\n",
       "      <td>no</td>\n",
       "    </tr>\n",
       "    <tr>\n",
       "      <th>4</th>\n",
       "      <td>5</td>\n",
       "      <td>SC</td>\n",
       "      <td>108</td>\n",
       "      <td>area_code_415</td>\n",
       "      <td>no</td>\n",
       "      <td>no</td>\n",
       "      <td>0</td>\n",
       "      <td>197.4</td>\n",
       "      <td>78</td>\n",
       "      <td>33.56</td>\n",
       "      <td>124.0</td>\n",
       "      <td>101</td>\n",
       "      <td>10.54</td>\n",
       "      <td>204.5</td>\n",
       "      <td>107</td>\n",
       "      <td>9.20</td>\n",
       "      <td>7.7</td>\n",
       "      <td>4</td>\n",
       "      <td>2.08</td>\n",
       "      <td>2</td>\n",
       "      <td>no</td>\n",
       "    </tr>\n",
       "  </tbody>\n",
       "</table>\n",
       "</div>"
      ],
      "text/plain": [
       "   Unnamed: 0 state  account_length      area_code international_plan voice_mail_plan  number_vmail_messages  total_day_minutes  total_day_calls  total_day_charge  total_eve_minutes  total_eve_calls  total_eve_charge  total_night_minutes  total_night_calls  total_night_charge  total_intl_minutes  total_intl_calls  total_intl_charge  number_customer_service_calls churn\n",
       "0           1    HI             101  area_code_510                 no              no                      0               70.9              123             12.05              211.9               73             18.01                236.0                 73               10.62                10.6                 3               2.86                              3    no\n",
       "1           2    MT             137  area_code_510                 no              no                      0              223.6               86             38.01              244.8              139             20.81                 94.2                 81                4.24                 9.5                 7               2.57                              0    no\n",
       "2           3    OH             103  area_code_408                 no             yes                     29              294.7               95             50.10              237.3              105             20.17                300.3                127               13.51                13.7                 6               3.70                              1    no\n",
       "3           4    NM              99  area_code_415                 no              no                      0              216.8              123             36.86              126.4               88             10.74                220.6                 82                9.93                15.7                 2               4.24                              1    no\n",
       "4           5    SC             108  area_code_415                 no              no                      0              197.4               78             33.56              124.0              101             10.54                204.5                107                9.20                 7.7                 4               2.08                              2    no"
      ]
     },
     "execution_count": 5,
     "metadata": {},
     "output_type": "execute_result"
    }
   ],
   "source": [
    "teste.head()"
   ]
  },
  {
   "cell_type": "code",
   "execution_count": 6,
   "metadata": {},
   "outputs": [],
   "source": [
    "df_raw = df_raw.drop(['Unnamed: 0'], axis=1)\n",
    "teste = teste.drop(['Unnamed: 0'], axis=1)"
   ]
  },
  {
   "cell_type": "markdown",
   "metadata": {
    "heading_collapsed": true
   },
   "source": [
    "# 1.0 DESCRICAO DOS DADOS"
   ]
  },
  {
   "cell_type": "code",
   "execution_count": 7,
   "metadata": {},
   "outputs": [],
   "source": [
    "df1 = df_raw.copy()"
   ]
  },
  {
   "cell_type": "code",
   "execution_count": 8,
   "metadata": {},
   "outputs": [
    {
     "data": {
      "text/plain": [
       "3333"
      ]
     },
     "execution_count": 8,
     "metadata": {},
     "output_type": "execute_result"
    }
   ],
   "source": [
    "len(df1)"
   ]
  },
  {
   "cell_type": "code",
   "execution_count": 9,
   "metadata": {},
   "outputs": [
    {
     "data": {
      "text/plain": [
       "state                             object\n",
       "account_length                     int64\n",
       "area_code                         object\n",
       "international_plan                object\n",
       "voice_mail_plan                   object\n",
       "number_vmail_messages              int64\n",
       "total_day_minutes                float64\n",
       "total_day_calls                    int64\n",
       "total_day_charge                 float64\n",
       "total_eve_minutes                float64\n",
       "total_eve_calls                    int64\n",
       "total_eve_charge                 float64\n",
       "total_night_minutes              float64\n",
       "total_night_calls                  int64\n",
       "total_night_charge               float64\n",
       "total_intl_minutes               float64\n",
       "total_intl_calls                   int64\n",
       "total_intl_charge                float64\n",
       "number_customer_service_calls      int64\n",
       "churn                             object\n",
       "dtype: object"
      ]
     },
     "execution_count": 9,
     "metadata": {},
     "output_type": "execute_result"
    }
   ],
   "source": [
    "df1.dtypes"
   ]
  },
  {
   "cell_type": "code",
   "execution_count": 10,
   "metadata": {},
   "outputs": [
    {
     "data": {
      "text/plain": [
       "state                            0\n",
       "account_length                   0\n",
       "area_code                        0\n",
       "international_plan               0\n",
       "voice_mail_plan                  0\n",
       "number_vmail_messages            0\n",
       "total_day_minutes                0\n",
       "total_day_calls                  0\n",
       "total_day_charge                 0\n",
       "total_eve_minutes                0\n",
       "total_eve_calls                  0\n",
       "total_eve_charge                 0\n",
       "total_night_minutes              0\n",
       "total_night_calls                0\n",
       "total_night_charge               0\n",
       "total_intl_minutes               0\n",
       "total_intl_calls                 0\n",
       "total_intl_charge                0\n",
       "number_customer_service_calls    0\n",
       "churn                            0\n",
       "dtype: int64"
      ]
     },
     "execution_count": 10,
     "metadata": {},
     "output_type": "execute_result"
    }
   ],
   "source": [
    "df1.isnull().sum()"
   ]
  },
  {
   "cell_type": "code",
   "execution_count": 11,
   "metadata": {},
   "outputs": [
    {
     "data": {
      "text/plain": [
       "no     2850\n",
       "yes     483\n",
       "Name: churn, dtype: int64"
      ]
     },
     "execution_count": 11,
     "metadata": {},
     "output_type": "execute_result"
    }
   ],
   "source": [
    "df1['churn'].value_counts()"
   ]
  },
  {
   "cell_type": "markdown",
   "metadata": {
    "ExecuteTime": {
     "end_time": "2021-01-20T00:37:56.195998Z",
     "start_time": "2021-01-20T00:37:56.186004Z"
    },
    "heading_collapsed": true,
    "hidden": true
   },
   "source": [
    "## 1.1 Descriptive Statistical"
   ]
  },
  {
   "cell_type": "code",
   "execution_count": 22,
   "metadata": {},
   "outputs": [],
   "source": [
    "num_attributes = df1.select_dtypes(include = [\"int64\", \"float64\"])\n",
    "cat_attributes = df1.select_dtypes(include = [\"object\"])"
   ]
  },
  {
   "cell_type": "markdown",
   "metadata": {
    "hidden": true
   },
   "source": [
    "### 1.1.1 Numerical Attributes"
   ]
  },
  {
   "cell_type": "code",
   "execution_count": 16,
   "metadata": {},
   "outputs": [
    {
     "data": {
      "text/html": [
       "<div>\n",
       "<style scoped>\n",
       "    .dataframe tbody tr th:only-of-type {\n",
       "        vertical-align: middle;\n",
       "    }\n",
       "\n",
       "    .dataframe tbody tr th {\n",
       "        vertical-align: top;\n",
       "    }\n",
       "\n",
       "    .dataframe thead th {\n",
       "        text-align: right;\n",
       "    }\n",
       "</style>\n",
       "<table border=\"1\" class=\"dataframe\">\n",
       "  <thead>\n",
       "    <tr style=\"text-align: right;\">\n",
       "      <th></th>\n",
       "      <th>attributes</th>\n",
       "      <th>min</th>\n",
       "      <th>max</th>\n",
       "      <th>range</th>\n",
       "      <th>mean</th>\n",
       "      <th>median</th>\n",
       "      <th>std</th>\n",
       "      <th>skew</th>\n",
       "      <th>kurtosis</th>\n",
       "    </tr>\n",
       "  </thead>\n",
       "  <tbody>\n",
       "    <tr>\n",
       "      <th>0</th>\n",
       "      <td>account_length</td>\n",
       "      <td>1.00</td>\n",
       "      <td>243.00</td>\n",
       "      <td>242.00</td>\n",
       "      <td>101.064806</td>\n",
       "      <td>101.00</td>\n",
       "      <td>39.816132</td>\n",
       "      <td>0.096606</td>\n",
       "      <td>-0.107836</td>\n",
       "    </tr>\n",
       "    <tr>\n",
       "      <th>1</th>\n",
       "      <td>number_vmail_messages</td>\n",
       "      <td>0.00</td>\n",
       "      <td>51.00</td>\n",
       "      <td>51.00</td>\n",
       "      <td>8.099010</td>\n",
       "      <td>0.00</td>\n",
       "      <td>13.686312</td>\n",
       "      <td>1.264824</td>\n",
       "      <td>-0.051129</td>\n",
       "    </tr>\n",
       "    <tr>\n",
       "      <th>2</th>\n",
       "      <td>total_day_minutes</td>\n",
       "      <td>0.00</td>\n",
       "      <td>350.80</td>\n",
       "      <td>350.80</td>\n",
       "      <td>179.775098</td>\n",
       "      <td>179.40</td>\n",
       "      <td>54.459218</td>\n",
       "      <td>-0.029077</td>\n",
       "      <td>-0.019940</td>\n",
       "    </tr>\n",
       "    <tr>\n",
       "      <th>3</th>\n",
       "      <td>total_day_calls</td>\n",
       "      <td>0.00</td>\n",
       "      <td>165.00</td>\n",
       "      <td>165.00</td>\n",
       "      <td>100.435644</td>\n",
       "      <td>101.00</td>\n",
       "      <td>20.066073</td>\n",
       "      <td>-0.111787</td>\n",
       "      <td>0.243182</td>\n",
       "    </tr>\n",
       "    <tr>\n",
       "      <th>4</th>\n",
       "      <td>total_day_charge</td>\n",
       "      <td>0.00</td>\n",
       "      <td>59.64</td>\n",
       "      <td>59.64</td>\n",
       "      <td>30.562307</td>\n",
       "      <td>30.50</td>\n",
       "      <td>9.258045</td>\n",
       "      <td>-0.029083</td>\n",
       "      <td>-0.019812</td>\n",
       "    </tr>\n",
       "    <tr>\n",
       "      <th>5</th>\n",
       "      <td>total_eve_minutes</td>\n",
       "      <td>0.00</td>\n",
       "      <td>363.70</td>\n",
       "      <td>363.70</td>\n",
       "      <td>200.980348</td>\n",
       "      <td>201.40</td>\n",
       "      <td>50.706236</td>\n",
       "      <td>-0.023877</td>\n",
       "      <td>0.025630</td>\n",
       "    </tr>\n",
       "    <tr>\n",
       "      <th>6</th>\n",
       "      <td>total_eve_calls</td>\n",
       "      <td>0.00</td>\n",
       "      <td>170.00</td>\n",
       "      <td>170.00</td>\n",
       "      <td>100.114311</td>\n",
       "      <td>100.00</td>\n",
       "      <td>19.919636</td>\n",
       "      <td>-0.055563</td>\n",
       "      <td>0.206156</td>\n",
       "    </tr>\n",
       "    <tr>\n",
       "      <th>7</th>\n",
       "      <td>total_eve_charge</td>\n",
       "      <td>0.00</td>\n",
       "      <td>30.91</td>\n",
       "      <td>30.91</td>\n",
       "      <td>17.083540</td>\n",
       "      <td>17.12</td>\n",
       "      <td>4.310021</td>\n",
       "      <td>-0.023858</td>\n",
       "      <td>0.025487</td>\n",
       "    </tr>\n",
       "    <tr>\n",
       "      <th>8</th>\n",
       "      <td>total_night_minutes</td>\n",
       "      <td>23.20</td>\n",
       "      <td>395.00</td>\n",
       "      <td>371.80</td>\n",
       "      <td>200.872037</td>\n",
       "      <td>201.20</td>\n",
       "      <td>50.566260</td>\n",
       "      <td>0.008921</td>\n",
       "      <td>0.085816</td>\n",
       "    </tr>\n",
       "    <tr>\n",
       "      <th>9</th>\n",
       "      <td>total_night_calls</td>\n",
       "      <td>33.00</td>\n",
       "      <td>175.00</td>\n",
       "      <td>142.00</td>\n",
       "      <td>100.107711</td>\n",
       "      <td>100.00</td>\n",
       "      <td>19.565674</td>\n",
       "      <td>0.032500</td>\n",
       "      <td>-0.072020</td>\n",
       "    </tr>\n",
       "    <tr>\n",
       "      <th>10</th>\n",
       "      <td>total_night_charge</td>\n",
       "      <td>1.04</td>\n",
       "      <td>17.77</td>\n",
       "      <td>16.73</td>\n",
       "      <td>9.039325</td>\n",
       "      <td>9.05</td>\n",
       "      <td>2.275531</td>\n",
       "      <td>0.008886</td>\n",
       "      <td>0.085663</td>\n",
       "    </tr>\n",
       "    <tr>\n",
       "      <th>11</th>\n",
       "      <td>total_intl_minutes</td>\n",
       "      <td>0.00</td>\n",
       "      <td>20.00</td>\n",
       "      <td>20.00</td>\n",
       "      <td>10.237294</td>\n",
       "      <td>10.30</td>\n",
       "      <td>2.791421</td>\n",
       "      <td>-0.245136</td>\n",
       "      <td>0.609185</td>\n",
       "    </tr>\n",
       "    <tr>\n",
       "      <th>12</th>\n",
       "      <td>total_intl_calls</td>\n",
       "      <td>0.00</td>\n",
       "      <td>20.00</td>\n",
       "      <td>20.00</td>\n",
       "      <td>4.479448</td>\n",
       "      <td>4.00</td>\n",
       "      <td>2.460845</td>\n",
       "      <td>1.321478</td>\n",
       "      <td>3.083589</td>\n",
       "    </tr>\n",
       "    <tr>\n",
       "      <th>13</th>\n",
       "      <td>total_intl_charge</td>\n",
       "      <td>0.00</td>\n",
       "      <td>5.40</td>\n",
       "      <td>5.40</td>\n",
       "      <td>2.764581</td>\n",
       "      <td>2.78</td>\n",
       "      <td>0.753660</td>\n",
       "      <td>-0.245287</td>\n",
       "      <td>0.609610</td>\n",
       "    </tr>\n",
       "    <tr>\n",
       "      <th>14</th>\n",
       "      <td>number_customer_service_calls</td>\n",
       "      <td>0.00</td>\n",
       "      <td>9.00</td>\n",
       "      <td>9.00</td>\n",
       "      <td>1.562856</td>\n",
       "      <td>1.00</td>\n",
       "      <td>1.315294</td>\n",
       "      <td>1.091359</td>\n",
       "      <td>1.730914</td>\n",
       "    </tr>\n",
       "  </tbody>\n",
       "</table>\n",
       "</div>"
      ],
      "text/plain": [
       "                       attributes    min     max   range        mean  median        std      skew  kurtosis\n",
       "0                  account_length   1.00  243.00  242.00  101.064806  101.00  39.816132  0.096606 -0.107836\n",
       "1           number_vmail_messages   0.00   51.00   51.00    8.099010    0.00  13.686312  1.264824 -0.051129\n",
       "2               total_day_minutes   0.00  350.80  350.80  179.775098  179.40  54.459218 -0.029077 -0.019940\n",
       "3                 total_day_calls   0.00  165.00  165.00  100.435644  101.00  20.066073 -0.111787  0.243182\n",
       "4                total_day_charge   0.00   59.64   59.64   30.562307   30.50   9.258045 -0.029083 -0.019812\n",
       "5               total_eve_minutes   0.00  363.70  363.70  200.980348  201.40  50.706236 -0.023877  0.025630\n",
       "6                 total_eve_calls   0.00  170.00  170.00  100.114311  100.00  19.919636 -0.055563  0.206156\n",
       "7                total_eve_charge   0.00   30.91   30.91   17.083540   17.12   4.310021 -0.023858  0.025487\n",
       "8             total_night_minutes  23.20  395.00  371.80  200.872037  201.20  50.566260  0.008921  0.085816\n",
       "9               total_night_calls  33.00  175.00  142.00  100.107711  100.00  19.565674  0.032500 -0.072020\n",
       "10             total_night_charge   1.04   17.77   16.73    9.039325    9.05   2.275531  0.008886  0.085663\n",
       "11             total_intl_minutes   0.00   20.00   20.00   10.237294   10.30   2.791421 -0.245136  0.609185\n",
       "12               total_intl_calls   0.00   20.00   20.00    4.479448    4.00   2.460845  1.321478  3.083589\n",
       "13              total_intl_charge   0.00    5.40    5.40    2.764581    2.78   0.753660 -0.245287  0.609610\n",
       "14  number_customer_service_calls   0.00    9.00    9.00    1.562856    1.00   1.315294  1.091359  1.730914"
      ]
     },
     "execution_count": 16,
     "metadata": {},
     "output_type": "execute_result"
    }
   ],
   "source": [
    "# Central Tendency -media, mediana\n",
    "ct1 = pd.DataFrame(num_attributes.apply(np.mean)).T\n",
    "ct2 = pd.DataFrame(num_attributes.apply(np.median)).T\n",
    "\n",
    "# Dispersion - std, max, min, range, skew, kurtosis\n",
    "d1 = pd.DataFrame(num_attributes.apply(np.std)).T\n",
    "d2 = pd.DataFrame(num_attributes.apply(min)).T\n",
    "d3 = pd.DataFrame(num_attributes.apply(max)).T\n",
    "d4 = pd.DataFrame(num_attributes.apply(lambda x: x.max() - x.min())).T\n",
    "d5 = pd.DataFrame(num_attributes.apply(lambda x: x.skew())).T\n",
    "d6 = pd.DataFrame(num_attributes.apply(lambda x: x.kurtosis())).T\n",
    "\n",
    "#concatenete\n",
    "m = pd.concat([d2, d3, d4, ct1, ct2, d1, d5, d6]).T.reset_index()\n",
    "m. columns = [\"attributes\", \"min\", \"max\", \"range\", \"mean\", \"median\", \"std\", \"skew\", \"kurtosis\"]\n",
    "\n",
    "m"
   ]
  },
  {
   "cell_type": "code",
   "execution_count": 17,
   "metadata": {},
   "outputs": [
    {
     "data": {
      "text/plain": [
       "<matplotlib.axes._subplots.AxesSubplot at 0x26f2a2c1278>"
      ]
     },
     "execution_count": 17,
     "metadata": {},
     "output_type": "execute_result"
    },
    {
     "data": {
      "image/png": "[encoded data removed]",
      "text/plain": [
       "<Figure size 1800x864 with 1 Axes>"
      ]
     },
     "metadata": {},
     "output_type": "display_data"
    }
   ],
   "source": [
    "sns.distplot( df1[\"account_length\"] )"
   ]
  },
  {
   "cell_type": "code",
   "execution_count": 20,
   "metadata": {},
   "outputs": [
    {
     "data": {
      "text/plain": [
       "<matplotlib.axes._subplots.AxesSubplot at 0x26f2c286e48>"
      ]
     },
     "execution_count": 20,
     "metadata": {},
     "output_type": "execute_result"
    },
    {
     "data": {
      "image/png": "[encoded data removed]",
      "text/plain": [
       "<Figure size 1800x864 with 1 Axes>"
      ]
     },
     "metadata": {},
     "output_type": "display_data"
    }
   ],
   "source": [
    "sns.countplot( df1[\"number_customer_service_calls\"] )"
   ]
  },
  {
   "cell_type": "markdown",
   "metadata": {
    "hidden": true
   },
   "source": [
    "### 1.2.2 Categorical Attribute"
   ]
  },
  {
   "cell_type": "code",
   "execution_count": 23,
   "metadata": {},
   "outputs": [
    {
     "data": {
      "text/plain": [
       "state                 51\n",
       "area_code              3\n",
       "international_plan     2\n",
       "voice_mail_plan        2\n",
       "churn                  2\n",
       "dtype: int64"
      ]
     },
     "execution_count": 23,
     "metadata": {},
     "output_type": "execute_result"
    }
   ],
   "source": [
    "cat_attributes.apply( lambda x: x.unique().shape[0] )"
   ]
  },
  {
   "cell_type": "code",
   "execution_count": 28,
   "metadata": {},
   "outputs": [
    {
     "data": {
      "text/plain": [
       "<matplotlib.axes._subplots.AxesSubplot at 0x26f2d715e80>"
      ]
     },
     "execution_count": 28,
     "metadata": {},
     "output_type": "execute_result"
    },
    {
     "data": {
      "image/png": "[encoded data removed]",
      "text/plain": [
       "<Figure size 1800x864 with 2 Axes>"
      ]
     },
     "metadata": {},
     "output_type": "display_data"
    }
   ],
   "source": [
    "plt.subplot(1, 2, 1)\n",
    "sns.boxplot( x=\"churn\",y=\"account_length\", data=df1, showfliers=False, hue='international_plan' )\n",
    "\n",
    "plt.subplot(1, 2, 2)\n",
    "sns.boxplot( x=\"churn\",y=\"number_customer_service_calls\", data=df1, showfliers=False, hue='international_plan' )\n"
   ]
  },
  {
   "cell_type": "markdown",
   "metadata": {
    "ExecuteTime": {
     "end_time": "2021-01-21T05:19:43.402914Z",
     "start_time": "2021-01-21T05:19:43.387921Z"
    },
    "heading_collapsed": true
   },
   "source": [
    "# 2.0  FEATURE ENGINEERING"
   ]
  },
  {
   "cell_type": "code",
   "execution_count": 31,
   "metadata": {},
   "outputs": [],
   "source": [
    "df2 = df1.copy()"
   ]
  },
  {
   "cell_type": "markdown",
   "metadata": {
    "ExecuteTime": {
     "end_time": "2021-01-21T23:35:56.351591Z",
     "start_time": "2021-01-21T23:35:56.331359Z"
    },
    "heading_collapsed": true,
    "hidden": true
   },
   "source": [
    "## 2.1 Mapa mental de Hipóteses"
   ]
  },
  {
   "cell_type": "code",
   "execution_count": 55,
   "metadata": {},
   "outputs": [
    {
     "data": {
      "image/png": "[encoded data removed]",
      "text/plain": [
       "<IPython.core.display.Image object>"
      ]
     },
     "execution_count": 55,
     "metadata": {},
     "output_type": "execute_result"
    }
   ],
   "source": [
    "Image(\"img/TELECON_CHURN.png\")"
   ]
  },
  {
   "cell_type": "markdown",
   "metadata": {
    "hidden": true
   },
   "source": [
    "## 2.2 Feature Engineering"
   ]
  },
  {
   "cell_type": "code",
   "execution_count": 32,
   "metadata": {},
   "outputs": [],
   "source": [
    "df2['total_minutes'] =  df2['total_day_minutes'] + df2['total_eve_minutes'] + df2['total_night_minutes']               \n",
    "df2['total_calls'] = df2['total_day_calls'] + df2['total_eve_calls'] + df2['total_night_calls']                  \n",
    "df2['total_charge'] = df2['total_day_charge'] + df2['total_eve_charge'] + df2['total_night_charge']"
   ]
  },
  {
   "cell_type": "code",
   "execution_count": 34,
   "metadata": {},
   "outputs": [],
   "source": [
    "df2['tarifa_day'] = df2['total_day_charge']/df2['total_day_minutes']"
   ]
  },
  {
   "cell_type": "code",
   "execution_count": 39,
   "metadata": {},
   "outputs": [],
   "source": [
    "df2['tarifa_eve'] = df2['total_eve_charge']/df2['total_eve_minutes']\n",
    "df2['tarifa_night'] = df2['total_night_charge']/df2['total_night_minutes']"
   ]
  },
  {
   "cell_type": "code",
   "execution_count": 49,
   "metadata": {},
   "outputs": [
    {
     "data": {
      "text/plain": [
       "state                            0\n",
       "account_length                   0\n",
       "area_code                        0\n",
       "international_plan               0\n",
       "voice_mail_plan                  0\n",
       "number_vmail_messages            0\n",
       "total_day_minutes                0\n",
       "total_day_calls                  0\n",
       "total_day_charge                 0\n",
       "total_eve_minutes                0\n",
       "total_eve_calls                  0\n",
       "total_eve_charge                 0\n",
       "total_night_minutes              0\n",
       "total_night_calls                0\n",
       "total_night_charge               0\n",
       "total_intl_minutes               0\n",
       "total_intl_calls                 0\n",
       "total_intl_charge                0\n",
       "number_customer_service_calls    0\n",
       "churn                            0\n",
       "total_minutes                    0\n",
       "total_calls                      0\n",
       "total_charge                     0\n",
       "tarifa_day                       0\n",
       "tarifa_eve                       0\n",
       "tarifa_night                     0\n",
       "dtype: int64"
      ]
     },
     "execution_count": 49,
     "metadata": {},
     "output_type": "execute_result"
    }
   ],
   "source": [
    "df2.isnull().sum()"
   ]
  },
  {
   "cell_type": "code",
   "execution_count": 48,
   "metadata": {},
   "outputs": [],
   "source": [
    "df2 = df2.fillna(0)"
   ]
  },
  {
   "cell_type": "code",
   "execution_count": 50,
   "metadata": {},
   "outputs": [],
   "source": [
    "aux = df2[['total_minutes', 'total_calls', 'total_charge', 'tarifa_day', 'tarifa_eve', 'tarifa_night']]"
   ]
  },
  {
   "cell_type": "code",
   "execution_count": 51,
   "metadata": {
    "scrolled": true
   },
   "outputs": [
    {
     "data": {
      "text/html": [
       "<div>\n",
       "<style scoped>\n",
       "    .dataframe tbody tr th:only-of-type {\n",
       "        vertical-align: middle;\n",
       "    }\n",
       "\n",
       "    .dataframe tbody tr th {\n",
       "        vertical-align: top;\n",
       "    }\n",
       "\n",
       "    .dataframe thead th {\n",
       "        text-align: right;\n",
       "    }\n",
       "</style>\n",
       "<table border=\"1\" class=\"dataframe\">\n",
       "  <thead>\n",
       "    <tr style=\"text-align: right;\">\n",
       "      <th></th>\n",
       "      <th>attributes</th>\n",
       "      <th>min</th>\n",
       "      <th>max</th>\n",
       "      <th>range</th>\n",
       "      <th>mean</th>\n",
       "      <th>median</th>\n",
       "      <th>std</th>\n",
       "      <th>skew</th>\n",
       "      <th>kurtosis</th>\n",
       "    </tr>\n",
       "  </thead>\n",
       "  <tbody>\n",
       "    <tr>\n",
       "      <th>0</th>\n",
       "      <td>total_minutes</td>\n",
       "      <td>275.200000</td>\n",
       "      <td>876.900000</td>\n",
       "      <td>601.700000</td>\n",
       "      <td>581.627483</td>\n",
       "      <td>583.100000</td>\n",
       "      <td>89.955832</td>\n",
       "      <td>-0.036998</td>\n",
       "      <td>-0.043584</td>\n",
       "    </tr>\n",
       "    <tr>\n",
       "      <th>1</th>\n",
       "      <td>total_calls</td>\n",
       "      <td>188.000000</td>\n",
       "      <td>410.000000</td>\n",
       "      <td>222.000000</td>\n",
       "      <td>300.657666</td>\n",
       "      <td>301.000000</td>\n",
       "      <td>34.323082</td>\n",
       "      <td>-0.039384</td>\n",
       "      <td>-0.153420</td>\n",
       "    </tr>\n",
       "    <tr>\n",
       "      <th>2</th>\n",
       "      <td>total_charge</td>\n",
       "      <td>19.980000</td>\n",
       "      <td>92.560000</td>\n",
       "      <td>72.580000</td>\n",
       "      <td>56.685173</td>\n",
       "      <td>56.630000</td>\n",
       "      <td>10.486243</td>\n",
       "      <td>-0.033641</td>\n",
       "      <td>0.039298</td>\n",
       "    </tr>\n",
       "    <tr>\n",
       "      <th>3</th>\n",
       "      <td>tarifa_day</td>\n",
       "      <td>0.000000</td>\n",
       "      <td>0.170513</td>\n",
       "      <td>0.170513</td>\n",
       "      <td>0.169901</td>\n",
       "      <td>0.170004</td>\n",
       "      <td>0.004163</td>\n",
       "      <td>-40.801688</td>\n",
       "      <td>1663.849936</td>\n",
       "    </tr>\n",
       "    <tr>\n",
       "      <th>4</th>\n",
       "      <td>tarifa_eve</td>\n",
       "      <td>0.000000</td>\n",
       "      <td>0.085075</td>\n",
       "      <td>0.085075</td>\n",
       "      <td>0.084976</td>\n",
       "      <td>0.085000</td>\n",
       "      <td>0.001472</td>\n",
       "      <td>-57.721446</td>\n",
       "      <td>3332.176611</td>\n",
       "    </tr>\n",
       "    <tr>\n",
       "      <th>5</th>\n",
       "      <td>tarifa_night</td>\n",
       "      <td>0.044828</td>\n",
       "      <td>0.045111</td>\n",
       "      <td>0.000284</td>\n",
       "      <td>0.045000</td>\n",
       "      <td>0.045000</td>\n",
       "      <td>0.000017</td>\n",
       "      <td>-0.301543</td>\n",
       "      <td>4.288021</td>\n",
       "    </tr>\n",
       "  </tbody>\n",
       "</table>\n",
       "</div>"
      ],
      "text/plain": [
       "      attributes         min         max       range        mean      median        std       skew     kurtosis\n",
       "0  total_minutes  275.200000  876.900000  601.700000  581.627483  583.100000  89.955832  -0.036998    -0.043584\n",
       "1    total_calls  188.000000  410.000000  222.000000  300.657666  301.000000  34.323082  -0.039384    -0.153420\n",
       "2   total_charge   19.980000   92.560000   72.580000   56.685173   56.630000  10.486243  -0.033641     0.039298\n",
       "3     tarifa_day    0.000000    0.170513    0.170513    0.169901    0.170004   0.004163 -40.801688  1663.849936\n",
       "4     tarifa_eve    0.000000    0.085075    0.085075    0.084976    0.085000   0.001472 -57.721446  3332.176611\n",
       "5   tarifa_night    0.044828    0.045111    0.000284    0.045000    0.045000   0.000017  -0.301543     4.288021"
      ]
     },
     "execution_count": 51,
     "metadata": {},
     "output_type": "execute_result"
    }
   ],
   "source": [
    "# Central Tendency -media, mediana\n",
    "ct1 = pd.DataFrame(aux.apply(np.mean)).T\n",
    "ct2 = pd.DataFrame(aux.apply(np.median)).T\n",
    "\n",
    "# Dispersion - std, max, min, range, skew, kurtosis\n",
    "d1 = pd.DataFrame(aux.apply(np.std)).T\n",
    "d2 = pd.DataFrame(aux.apply(min)).T\n",
    "d3 = pd.DataFrame(aux.apply(max)).T\n",
    "d4 = pd.DataFrame(aux.apply(lambda x: x.max() - x.min())).T\n",
    "d5 = pd.DataFrame(aux.apply(lambda x: x.skew())).T\n",
    "d6 = pd.DataFrame(aux.apply(lambda x: x.kurtosis())).T\n",
    "\n",
    "#concatenete\n",
    "m = pd.concat([d2, d3, d4, ct1, ct2, d1, d5, d6]).T.reset_index()\n",
    "m. columns = [\"attributes\", \"min\", \"max\", \"range\", \"mean\", \"median\", \"std\", \"skew\", \"kurtosis\"]\n",
    "\n",
    "m"
   ]
  },
  {
   "cell_type": "code",
   "execution_count": 71,
   "metadata": {},
   "outputs": [
    {
     "data": {
      "text/plain": [
       "'no'"
      ]
     },
     "execution_count": 71,
     "metadata": {},
     "output_type": "execute_result"
    }
   ],
   "source": [
    "df2.loc[1, \"international_plan\"]"
   ]
  },
  {
   "cell_type": "code",
   "execution_count": 87,
   "metadata": {},
   "outputs": [],
   "source": [
    "for n in range(len(df2)):\n",
    "    \n",
    "    if (df2.loc[n, \"international_plan\"]=='yes') & (df2.loc[n, \"voice_mail_plan\"]=='no'):\n",
    "        df2.loc[n,'numero_de_planos'] = 1\n",
    "    if (df2.loc[n, \"international_plan\"]=='no') & (df2.loc[n, \"voice_mail_plan\"]=='yes'):\n",
    "        df2.loc[n,'numero_de_planos'] = 1\n",
    "    if (df2.loc[n, \"international_plan\"]=='yes') & (df2.loc[n, \"voice_mail_plan\"]=='yes'):\n",
    "        df2.loc[n,'numero_de_planos'] = 2\n",
    "    if (df2.loc[n, \"international_plan\"]=='no') & (df2.loc[n, \"voice_mail_plan\"]=='no'):\n",
    "        df2.loc[n,'numero_de_planos'] = 0"
   ]
  },
  {
   "cell_type": "code",
   "execution_count": 88,
   "metadata": {},
   "outputs": [
    {
     "data": {
      "text/plain": [
       "0.0    2180\n",
       "1.0    1061\n",
       "2.0      92\n",
       "Name: numero_de_planos, dtype: int64"
      ]
     },
     "execution_count": 88,
     "metadata": {},
     "output_type": "execute_result"
    }
   ],
   "source": [
    "df2['numero_de_planos'].value_counts()"
   ]
  },
  {
   "cell_type": "markdown",
   "metadata": {},
   "source": [
    "# 3.0 ANALISE EXPLORATORIA DOS DADOS"
   ]
  },
  {
   "cell_type": "code",
   "execution_count": 57,
   "metadata": {},
   "outputs": [],
   "source": [
    "df3 = df2.copy()"
   ]
  },
  {
   "cell_type": "code",
   "execution_count": 58,
   "metadata": {},
   "outputs": [
    {
     "data": {
      "text/html": [
       "<div>\n",
       "<style scoped>\n",
       "    .dataframe tbody tr th:only-of-type {\n",
       "        vertical-align: middle;\n",
       "    }\n",
       "\n",
       "    .dataframe tbody tr th {\n",
       "        vertical-align: top;\n",
       "    }\n",
       "\n",
       "    .dataframe thead th {\n",
       "        text-align: right;\n",
       "    }\n",
       "</style>\n",
       "<table border=\"1\" class=\"dataframe\">\n",
       "  <thead>\n",
       "    <tr style=\"text-align: right;\">\n",
       "      <th></th>\n",
       "      <th>state</th>\n",
       "      <th>account_length</th>\n",
       "      <th>area_code</th>\n",
       "      <th>international_plan</th>\n",
       "      <th>voice_mail_plan</th>\n",
       "      <th>number_vmail_messages</th>\n",
       "      <th>total_day_minutes</th>\n",
       "      <th>total_day_calls</th>\n",
       "      <th>total_day_charge</th>\n",
       "      <th>total_eve_minutes</th>\n",
       "      <th>total_eve_calls</th>\n",
       "      <th>total_eve_charge</th>\n",
       "      <th>total_night_minutes</th>\n",
       "      <th>total_night_calls</th>\n",
       "      <th>total_night_charge</th>\n",
       "      <th>total_intl_minutes</th>\n",
       "      <th>total_intl_calls</th>\n",
       "      <th>total_intl_charge</th>\n",
       "      <th>number_customer_service_calls</th>\n",
       "      <th>churn</th>\n",
       "      <th>total_minutes</th>\n",
       "      <th>total_calls</th>\n",
       "      <th>total_charge</th>\n",
       "      <th>tarifa_day</th>\n",
       "      <th>tarifa_eve</th>\n",
       "      <th>tarifa_night</th>\n",
       "    </tr>\n",
       "  </thead>\n",
       "  <tbody>\n",
       "    <tr>\n",
       "      <th>0</th>\n",
       "      <td>KS</td>\n",
       "      <td>128</td>\n",
       "      <td>area_code_415</td>\n",
       "      <td>no</td>\n",
       "      <td>yes</td>\n",
       "      <td>25</td>\n",
       "      <td>265.1</td>\n",
       "      <td>110</td>\n",
       "      <td>45.07</td>\n",
       "      <td>197.4</td>\n",
       "      <td>99</td>\n",
       "      <td>16.78</td>\n",
       "      <td>244.7</td>\n",
       "      <td>91</td>\n",
       "      <td>11.01</td>\n",
       "      <td>10.0</td>\n",
       "      <td>3</td>\n",
       "      <td>2.70</td>\n",
       "      <td>1</td>\n",
       "      <td>no</td>\n",
       "      <td>707.2</td>\n",
       "      <td>300</td>\n",
       "      <td>72.86</td>\n",
       "      <td>0.170011</td>\n",
       "      <td>0.085005</td>\n",
       "      <td>0.044994</td>\n",
       "    </tr>\n",
       "    <tr>\n",
       "      <th>1</th>\n",
       "      <td>OH</td>\n",
       "      <td>107</td>\n",
       "      <td>area_code_415</td>\n",
       "      <td>no</td>\n",
       "      <td>yes</td>\n",
       "      <td>26</td>\n",
       "      <td>161.6</td>\n",
       "      <td>123</td>\n",
       "      <td>27.47</td>\n",
       "      <td>195.5</td>\n",
       "      <td>103</td>\n",
       "      <td>16.62</td>\n",
       "      <td>254.4</td>\n",
       "      <td>103</td>\n",
       "      <td>11.45</td>\n",
       "      <td>13.7</td>\n",
       "      <td>3</td>\n",
       "      <td>3.70</td>\n",
       "      <td>1</td>\n",
       "      <td>no</td>\n",
       "      <td>611.5</td>\n",
       "      <td>329</td>\n",
       "      <td>55.54</td>\n",
       "      <td>0.169988</td>\n",
       "      <td>0.085013</td>\n",
       "      <td>0.045008</td>\n",
       "    </tr>\n",
       "    <tr>\n",
       "      <th>2</th>\n",
       "      <td>NJ</td>\n",
       "      <td>137</td>\n",
       "      <td>area_code_415</td>\n",
       "      <td>no</td>\n",
       "      <td>no</td>\n",
       "      <td>0</td>\n",
       "      <td>243.4</td>\n",
       "      <td>114</td>\n",
       "      <td>41.38</td>\n",
       "      <td>121.2</td>\n",
       "      <td>110</td>\n",
       "      <td>10.30</td>\n",
       "      <td>162.6</td>\n",
       "      <td>104</td>\n",
       "      <td>7.32</td>\n",
       "      <td>12.2</td>\n",
       "      <td>5</td>\n",
       "      <td>3.29</td>\n",
       "      <td>0</td>\n",
       "      <td>no</td>\n",
       "      <td>527.2</td>\n",
       "      <td>328</td>\n",
       "      <td>59.00</td>\n",
       "      <td>0.170008</td>\n",
       "      <td>0.084983</td>\n",
       "      <td>0.045018</td>\n",
       "    </tr>\n",
       "    <tr>\n",
       "      <th>3</th>\n",
       "      <td>OH</td>\n",
       "      <td>84</td>\n",
       "      <td>area_code_408</td>\n",
       "      <td>yes</td>\n",
       "      <td>no</td>\n",
       "      <td>0</td>\n",
       "      <td>299.4</td>\n",
       "      <td>71</td>\n",
       "      <td>50.90</td>\n",
       "      <td>61.9</td>\n",
       "      <td>88</td>\n",
       "      <td>5.26</td>\n",
       "      <td>196.9</td>\n",
       "      <td>89</td>\n",
       "      <td>8.86</td>\n",
       "      <td>6.6</td>\n",
       "      <td>7</td>\n",
       "      <td>1.78</td>\n",
       "      <td>2</td>\n",
       "      <td>no</td>\n",
       "      <td>558.2</td>\n",
       "      <td>248</td>\n",
       "      <td>65.02</td>\n",
       "      <td>0.170007</td>\n",
       "      <td>0.084976</td>\n",
       "      <td>0.044997</td>\n",
       "    </tr>\n",
       "    <tr>\n",
       "      <th>4</th>\n",
       "      <td>OK</td>\n",
       "      <td>75</td>\n",
       "      <td>area_code_415</td>\n",
       "      <td>yes</td>\n",
       "      <td>no</td>\n",
       "      <td>0</td>\n",
       "      <td>166.7</td>\n",
       "      <td>113</td>\n",
       "      <td>28.34</td>\n",
       "      <td>148.3</td>\n",
       "      <td>122</td>\n",
       "      <td>12.61</td>\n",
       "      <td>186.9</td>\n",
       "      <td>121</td>\n",
       "      <td>8.41</td>\n",
       "      <td>10.1</td>\n",
       "      <td>3</td>\n",
       "      <td>2.73</td>\n",
       "      <td>3</td>\n",
       "      <td>no</td>\n",
       "      <td>501.9</td>\n",
       "      <td>356</td>\n",
       "      <td>49.36</td>\n",
       "      <td>0.170006</td>\n",
       "      <td>0.085030</td>\n",
       "      <td>0.044997</td>\n",
       "    </tr>\n",
       "  </tbody>\n",
       "</table>\n",
       "</div>"
      ],
      "text/plain": [
       "  state  account_length      area_code international_plan voice_mail_plan  number_vmail_messages  total_day_minutes  total_day_calls  total_day_charge  total_eve_minutes  total_eve_calls  total_eve_charge  total_night_minutes  total_night_calls  total_night_charge  total_intl_minutes  total_intl_calls  total_intl_charge  number_customer_service_calls churn  total_minutes  total_calls  total_charge  tarifa_day  tarifa_eve  tarifa_night\n",
       "0    KS             128  area_code_415                 no             yes                     25              265.1              110             45.07              197.4               99             16.78                244.7                 91               11.01                10.0                 3               2.70                              1    no          707.2          300         72.86    0.170011    0.085005      0.044994\n",
       "1    OH             107  area_code_415                 no             yes                     26              161.6              123             27.47              195.5              103             16.62                254.4                103               11.45                13.7                 3               3.70                              1    no          611.5          329         55.54    0.169988    0.085013      0.045008\n",
       "2    NJ             137  area_code_415                 no              no                      0              243.4              114             41.38              121.2              110             10.30                162.6                104                7.32                12.2                 5               3.29                              0    no          527.2          328         59.00    0.170008    0.084983      0.045018\n",
       "3    OH              84  area_code_408                yes              no                      0              299.4               71             50.90               61.9               88              5.26                196.9                 89                8.86                 6.6                 7               1.78                              2    no          558.2          248         65.02    0.170007    0.084976      0.044997\n",
       "4    OK              75  area_code_415                yes              no                      0              166.7              113             28.34              148.3              122             12.61                186.9                121                8.41                10.1                 3               2.73                              3    no          501.9          356         49.36    0.170006    0.085030      0.044997"
      ]
     },
     "execution_count": 58,
     "metadata": {},
     "output_type": "execute_result"
    }
   ],
   "source": [
    "df3.head()"
   ]
  },
  {
   "cell_type": "code",
   "execution_count": 79,
   "metadata": {},
   "outputs": [
    {
     "name": "stdout",
     "output_type": "stream",
     "text": [
      "Número de clientes com os dois planos:  92\n",
      "Número de clientes sem nenhum plano:  2180\n"
     ]
    }
   ],
   "source": [
    "print('Número de clientes com os dois planos: ',len(df3[(df3 [\"international_plan\"] == 'yes') & (df3[\"voice_mail_plan\"] == 'yes')]))\n",
    "print('Número de clientes sem nenhum plano: ',len(df3[(df3 [\"international_plan\"] == 'no') & (df3[\"voice_mail_plan\"] == 'no')]))"
   ]
  },
  {
   "cell_type": "code",
   "execution_count": null,
   "metadata": {},
   "outputs": [],
   "source": []
  },
  {
   "cell_type": "code",
   "execution_count": null,
   "metadata": {},
   "outputs": [],
   "source": []
  },
  {
   "cell_type": "code",
   "execution_count": null,
   "metadata": {},
   "outputs": [],
   "source": []
  },
  {
   "cell_type": "code",
   "execution_count": null,
   "metadata": {},
   "outputs": [],
   "source": []
  },
  {
   "cell_type": "code",
   "execution_count": null,
   "metadata": {},
   "outputs": [],
   "source": []
  },
  {
   "cell_type": "code",
   "execution_count": null,
   "metadata": {},
   "outputs": [],
   "source": []
  },
  {
   "cell_type": "code",
   "execution_count": null,
   "metadata": {},
   "outputs": [],
   "source": []
  },
  {
   "cell_type": "code",
   "execution_count": null,
   "metadata": {},
   "outputs": [],
   "source": []
  },
  {
   "cell_type": "code",
   "execution_count": null,
   "metadata": {},
   "outputs": [],
   "source": []
  },
  {
   "cell_type": "code",
   "execution_count": null,
   "metadata": {},
   "outputs": [],
   "source": []
  },
  {
   "cell_type": "code",
   "execution_count": null,
   "metadata": {},
   "outputs": [],
   "source": []
  },
  {
   "cell_type": "code",
   "execution_count": null,
   "metadata": {},
   "outputs": [],
   "source": []
  },
  {
   "cell_type": "code",
   "execution_count": null,
   "metadata": {},
   "outputs": [],
   "source": []
  },
  {
   "cell_type": "code",
   "execution_count": null,
   "metadata": {},
   "outputs": [],
   "source": []
  },
  {
   "cell_type": "code",
   "execution_count": null,
   "metadata": {},
   "outputs": [],
   "source": []
  },
  {
   "cell_type": "code",
   "execution_count": null,
   "metadata": {},
   "outputs": [],
   "source": []
  },
  {
   "cell_type": "code",
   "execution_count": null,
   "metadata": {},
   "outputs": [],
   "source": []
  },
  {
   "cell_type": "code",
   "execution_count": null,
   "metadata": {},
   "outputs": [],
   "source": []
  },
  {
   "cell_type": "code",
   "execution_count": null,
   "metadata": {},
   "outputs": [],
   "source": []
  },
  {
   "cell_type": "code",
   "execution_count": null,
   "metadata": {},
   "outputs": [],
   "source": []
  },
  {
   "cell_type": "code",
   "execution_count": null,
   "metadata": {},
   "outputs": [],
   "source": []
  },
  {
   "cell_type": "code",
   "execution_count": null,
   "metadata": {},
   "outputs": [],
   "source": []
  },
  {
   "cell_type": "code",
   "execution_count": null,
   "metadata": {},
   "outputs": [],
   "source": []
  },
  {
   "cell_type": "code",
   "execution_count": null,
   "metadata": {},
   "outputs": [],
   "source": []
  },
  {
   "cell_type": "code",
   "execution_count": null,
   "metadata": {},
   "outputs": [],
   "source": []
  },
  {
   "cell_type": "code",
   "execution_count": null,
   "metadata": {},
   "outputs": [],
   "source": []
  },
  {
   "cell_type": "code",
   "execution_count": null,
   "metadata": {},
   "outputs": [],
   "source": []
  },
  {
   "cell_type": "code",
   "execution_count": null,
   "metadata": {},
   "outputs": [],
   "source": []
  },
  {
   "cell_type": "code",
   "execution_count": null,
   "metadata": {},
   "outputs": [],
   "source": []
  },
  {
   "cell_type": "code",
   "execution_count": null,
   "metadata": {},
   "outputs": [],
   "source": []
  },
  {
   "cell_type": "code",
   "execution_count": null,
   "metadata": {},
   "outputs": [],
   "source": []
  },
  {
   "cell_type": "code",
   "execution_count": null,
   "metadata": {},
   "outputs": [],
   "source": []
  },
  {
   "cell_type": "code",
   "execution_count": null,
   "metadata": {},
   "outputs": [],
   "source": []
  },
  {
   "cell_type": "code",
   "execution_count": null,
   "metadata": {},
   "outputs": [],
   "source": []
  }
 ],
 "metadata": {
  "kernelspec": {
   "display_name": "Python 3",
   "language": "python",
   "name": "python3"
  },
  "language_info": {
   "codemirror_mode": {
    "name": "ipython",
    "version": 3
   },
   "file_extension": ".py",
   "mimetype": "text/x-python",
   "name": "python",
   "nbconvert_exporter": "python",
   "pygments_lexer": "ipython3",
   "version": "3.7.3"
  }
 },
 "nbformat": 4,
 "nbformat_minor": 2
}
